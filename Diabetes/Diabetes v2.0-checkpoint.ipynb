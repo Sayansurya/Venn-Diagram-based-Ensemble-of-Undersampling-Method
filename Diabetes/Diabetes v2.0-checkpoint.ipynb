{
 "cells": [
  {
   "cell_type": "code",
   "execution_count": 1,
   "metadata": {},
   "outputs": [
    {
     "data": {
      "text/html": [
       "<div>\n",
       "<style scoped>\n",
       "    .dataframe tbody tr th:only-of-type {\n",
       "        vertical-align: middle;\n",
       "    }\n",
       "\n",
       "    .dataframe tbody tr th {\n",
       "        vertical-align: top;\n",
       "    }\n",
       "\n",
       "    .dataframe thead th {\n",
       "        text-align: right;\n",
       "    }\n",
       "</style>\n",
       "<table border=\"1\" class=\"dataframe\">\n",
       "  <thead>\n",
       "    <tr style=\"text-align: right;\">\n",
       "      <th></th>\n",
       "      <th>Unnamed: 0</th>\n",
       "      <th>Pregnancies</th>\n",
       "      <th>Glucose</th>\n",
       "      <th>BloodPressure</th>\n",
       "      <th>SkinThickness</th>\n",
       "      <th>Insulin</th>\n",
       "      <th>BMI</th>\n",
       "      <th>DiabetesPedigreeFunction</th>\n",
       "      <th>Age</th>\n",
       "      <th>Outcome</th>\n",
       "    </tr>\n",
       "  </thead>\n",
       "  <tbody>\n",
       "    <tr>\n",
       "      <th>0</th>\n",
       "      <td>0</td>\n",
       "      <td>2</td>\n",
       "      <td>108</td>\n",
       "      <td>62</td>\n",
       "      <td>10</td>\n",
       "      <td>278</td>\n",
       "      <td>25.3</td>\n",
       "      <td>0.881</td>\n",
       "      <td>22</td>\n",
       "      <td>0</td>\n",
       "    </tr>\n",
       "    <tr>\n",
       "      <th>1</th>\n",
       "      <td>1</td>\n",
       "      <td>2</td>\n",
       "      <td>127</td>\n",
       "      <td>58</td>\n",
       "      <td>24</td>\n",
       "      <td>275</td>\n",
       "      <td>27.7</td>\n",
       "      <td>1.600</td>\n",
       "      <td>25</td>\n",
       "      <td>0</td>\n",
       "    </tr>\n",
       "    <tr>\n",
       "      <th>2</th>\n",
       "      <td>2</td>\n",
       "      <td>0</td>\n",
       "      <td>94</td>\n",
       "      <td>0</td>\n",
       "      <td>0</td>\n",
       "      <td>0</td>\n",
       "      <td>0.0</td>\n",
       "      <td>0.256</td>\n",
       "      <td>25</td>\n",
       "      <td>0</td>\n",
       "    </tr>\n",
       "    <tr>\n",
       "      <th>3</th>\n",
       "      <td>3</td>\n",
       "      <td>0</td>\n",
       "      <td>78</td>\n",
       "      <td>88</td>\n",
       "      <td>29</td>\n",
       "      <td>40</td>\n",
       "      <td>36.9</td>\n",
       "      <td>0.434</td>\n",
       "      <td>21</td>\n",
       "      <td>0</td>\n",
       "    </tr>\n",
       "    <tr>\n",
       "      <th>4</th>\n",
       "      <td>4</td>\n",
       "      <td>4</td>\n",
       "      <td>147</td>\n",
       "      <td>74</td>\n",
       "      <td>25</td>\n",
       "      <td>293</td>\n",
       "      <td>34.9</td>\n",
       "      <td>0.385</td>\n",
       "      <td>30</td>\n",
       "      <td>0</td>\n",
       "    </tr>\n",
       "    <tr>\n",
       "      <th>...</th>\n",
       "      <td>...</td>\n",
       "      <td>...</td>\n",
       "      <td>...</td>\n",
       "      <td>...</td>\n",
       "      <td>...</td>\n",
       "      <td>...</td>\n",
       "      <td>...</td>\n",
       "      <td>...</td>\n",
       "      <td>...</td>\n",
       "      <td>...</td>\n",
       "    </tr>\n",
       "    <tr>\n",
       "      <th>516</th>\n",
       "      <td>525</td>\n",
       "      <td>4</td>\n",
       "      <td>123</td>\n",
       "      <td>80</td>\n",
       "      <td>15</td>\n",
       "      <td>176</td>\n",
       "      <td>32.0</td>\n",
       "      <td>0.443</td>\n",
       "      <td>34</td>\n",
       "      <td>0</td>\n",
       "    </tr>\n",
       "    <tr>\n",
       "      <th>517</th>\n",
       "      <td>526</td>\n",
       "      <td>2</td>\n",
       "      <td>108</td>\n",
       "      <td>52</td>\n",
       "      <td>26</td>\n",
       "      <td>63</td>\n",
       "      <td>32.5</td>\n",
       "      <td>0.318</td>\n",
       "      <td>22</td>\n",
       "      <td>0</td>\n",
       "    </tr>\n",
       "    <tr>\n",
       "      <th>518</th>\n",
       "      <td>527</td>\n",
       "      <td>5</td>\n",
       "      <td>158</td>\n",
       "      <td>70</td>\n",
       "      <td>0</td>\n",
       "      <td>0</td>\n",
       "      <td>29.8</td>\n",
       "      <td>0.207</td>\n",
       "      <td>63</td>\n",
       "      <td>0</td>\n",
       "    </tr>\n",
       "    <tr>\n",
       "      <th>519</th>\n",
       "      <td>528</td>\n",
       "      <td>6</td>\n",
       "      <td>102</td>\n",
       "      <td>90</td>\n",
       "      <td>39</td>\n",
       "      <td>0</td>\n",
       "      <td>35.7</td>\n",
       "      <td>0.674</td>\n",
       "      <td>28</td>\n",
       "      <td>0</td>\n",
       "    </tr>\n",
       "    <tr>\n",
       "      <th>520</th>\n",
       "      <td>533</td>\n",
       "      <td>13</td>\n",
       "      <td>106</td>\n",
       "      <td>70</td>\n",
       "      <td>0</td>\n",
       "      <td>0</td>\n",
       "      <td>34.2</td>\n",
       "      <td>0.251</td>\n",
       "      <td>52</td>\n",
       "      <td>0</td>\n",
       "    </tr>\n",
       "  </tbody>\n",
       "</table>\n",
       "<p>521 rows × 10 columns</p>\n",
       "</div>"
      ],
      "text/plain": [
       "     Unnamed: 0  Pregnancies  Glucose  BloodPressure  SkinThickness  Insulin  \\\n",
       "0             0            2      108             62             10      278   \n",
       "1             1            2      127             58             24      275   \n",
       "2             2            0       94              0              0        0   \n",
       "3             3            0       78             88             29       40   \n",
       "4             4            4      147             74             25      293   \n",
       "..          ...          ...      ...            ...            ...      ...   \n",
       "516         525            4      123             80             15      176   \n",
       "517         526            2      108             52             26       63   \n",
       "518         527            5      158             70              0        0   \n",
       "519         528            6      102             90             39        0   \n",
       "520         533           13      106             70              0        0   \n",
       "\n",
       "      BMI  DiabetesPedigreeFunction  Age  Outcome  \n",
       "0    25.3                     0.881   22        0  \n",
       "1    27.7                     1.600   25        0  \n",
       "2     0.0                     0.256   25        0  \n",
       "3    36.9                     0.434   21        0  \n",
       "4    34.9                     0.385   30        0  \n",
       "..    ...                       ...  ...      ...  \n",
       "516  32.0                     0.443   34        0  \n",
       "517  32.5                     0.318   22        0  \n",
       "518  29.8                     0.207   63        0  \n",
       "519  35.7                     0.674   28        0  \n",
       "520  34.2                     0.251   52        0  \n",
       "\n",
       "[521 rows x 10 columns]"
      ]
     },
     "execution_count": 1,
     "metadata": {},
     "output_type": "execute_result"
    }
   ],
   "source": [
    "import pandas as pd\n",
    "import numpy as np\n",
    "from matplotlib import pyplot as plt\n",
    "import seaborn as sns\n",
    "\n",
    "df=pd.read_csv(\"diabetes1.csv\")\n",
    "df"
   ]
  },
  {
   "cell_type": "code",
   "execution_count": 2,
   "metadata": {},
   "outputs": [
    {
     "data": {
      "text/plain": [
       "Index(['Unnamed: 0', 'Pregnancies', 'Glucose', 'BloodPressure',\n",
       "       'SkinThickness', 'Insulin', 'BMI', 'DiabetesPedigreeFunction', 'Age',\n",
       "       'Outcome'],\n",
       "      dtype='object')"
      ]
     },
     "execution_count": 2,
     "metadata": {},
     "output_type": "execute_result"
    }
   ],
   "source": [
    "df.columns"
   ]
  },
  {
   "cell_type": "code",
   "execution_count": 3,
   "metadata": {},
   "outputs": [
    {
     "data": {
      "text/html": [
       "<div>\n",
       "<style scoped>\n",
       "    .dataframe tbody tr th:only-of-type {\n",
       "        vertical-align: middle;\n",
       "    }\n",
       "\n",
       "    .dataframe tbody tr th {\n",
       "        vertical-align: top;\n",
       "    }\n",
       "\n",
       "    .dataframe thead th {\n",
       "        text-align: right;\n",
       "    }\n",
       "</style>\n",
       "<table border=\"1\" class=\"dataframe\">\n",
       "  <thead>\n",
       "    <tr style=\"text-align: right;\">\n",
       "      <th></th>\n",
       "      <th>Pregnancies</th>\n",
       "      <th>Glucose</th>\n",
       "      <th>BloodPressure</th>\n",
       "      <th>SkinThickness</th>\n",
       "      <th>Insulin</th>\n",
       "      <th>BMI</th>\n",
       "      <th>DiabetesPedigreeFunction</th>\n",
       "      <th>Age</th>\n",
       "      <th>Outcome</th>\n",
       "    </tr>\n",
       "  </thead>\n",
       "  <tbody>\n",
       "    <tr>\n",
       "      <th>0</th>\n",
       "      <td>2</td>\n",
       "      <td>108</td>\n",
       "      <td>62</td>\n",
       "      <td>10</td>\n",
       "      <td>278</td>\n",
       "      <td>25.3</td>\n",
       "      <td>0.881</td>\n",
       "      <td>22</td>\n",
       "      <td>0</td>\n",
       "    </tr>\n",
       "    <tr>\n",
       "      <th>1</th>\n",
       "      <td>2</td>\n",
       "      <td>127</td>\n",
       "      <td>58</td>\n",
       "      <td>24</td>\n",
       "      <td>275</td>\n",
       "      <td>27.7</td>\n",
       "      <td>1.600</td>\n",
       "      <td>25</td>\n",
       "      <td>0</td>\n",
       "    </tr>\n",
       "    <tr>\n",
       "      <th>2</th>\n",
       "      <td>0</td>\n",
       "      <td>94</td>\n",
       "      <td>0</td>\n",
       "      <td>0</td>\n",
       "      <td>0</td>\n",
       "      <td>0.0</td>\n",
       "      <td>0.256</td>\n",
       "      <td>25</td>\n",
       "      <td>0</td>\n",
       "    </tr>\n",
       "    <tr>\n",
       "      <th>3</th>\n",
       "      <td>0</td>\n",
       "      <td>78</td>\n",
       "      <td>88</td>\n",
       "      <td>29</td>\n",
       "      <td>40</td>\n",
       "      <td>36.9</td>\n",
       "      <td>0.434</td>\n",
       "      <td>21</td>\n",
       "      <td>0</td>\n",
       "    </tr>\n",
       "    <tr>\n",
       "      <th>4</th>\n",
       "      <td>4</td>\n",
       "      <td>147</td>\n",
       "      <td>74</td>\n",
       "      <td>25</td>\n",
       "      <td>293</td>\n",
       "      <td>34.9</td>\n",
       "      <td>0.385</td>\n",
       "      <td>30</td>\n",
       "      <td>0</td>\n",
       "    </tr>\n",
       "    <tr>\n",
       "      <th>...</th>\n",
       "      <td>...</td>\n",
       "      <td>...</td>\n",
       "      <td>...</td>\n",
       "      <td>...</td>\n",
       "      <td>...</td>\n",
       "      <td>...</td>\n",
       "      <td>...</td>\n",
       "      <td>...</td>\n",
       "      <td>...</td>\n",
       "    </tr>\n",
       "    <tr>\n",
       "      <th>516</th>\n",
       "      <td>4</td>\n",
       "      <td>123</td>\n",
       "      <td>80</td>\n",
       "      <td>15</td>\n",
       "      <td>176</td>\n",
       "      <td>32.0</td>\n",
       "      <td>0.443</td>\n",
       "      <td>34</td>\n",
       "      <td>0</td>\n",
       "    </tr>\n",
       "    <tr>\n",
       "      <th>517</th>\n",
       "      <td>2</td>\n",
       "      <td>108</td>\n",
       "      <td>52</td>\n",
       "      <td>26</td>\n",
       "      <td>63</td>\n",
       "      <td>32.5</td>\n",
       "      <td>0.318</td>\n",
       "      <td>22</td>\n",
       "      <td>0</td>\n",
       "    </tr>\n",
       "    <tr>\n",
       "      <th>518</th>\n",
       "      <td>5</td>\n",
       "      <td>158</td>\n",
       "      <td>70</td>\n",
       "      <td>0</td>\n",
       "      <td>0</td>\n",
       "      <td>29.8</td>\n",
       "      <td>0.207</td>\n",
       "      <td>63</td>\n",
       "      <td>0</td>\n",
       "    </tr>\n",
       "    <tr>\n",
       "      <th>519</th>\n",
       "      <td>6</td>\n",
       "      <td>102</td>\n",
       "      <td>90</td>\n",
       "      <td>39</td>\n",
       "      <td>0</td>\n",
       "      <td>35.7</td>\n",
       "      <td>0.674</td>\n",
       "      <td>28</td>\n",
       "      <td>0</td>\n",
       "    </tr>\n",
       "    <tr>\n",
       "      <th>520</th>\n",
       "      <td>13</td>\n",
       "      <td>106</td>\n",
       "      <td>70</td>\n",
       "      <td>0</td>\n",
       "      <td>0</td>\n",
       "      <td>34.2</td>\n",
       "      <td>0.251</td>\n",
       "      <td>52</td>\n",
       "      <td>0</td>\n",
       "    </tr>\n",
       "  </tbody>\n",
       "</table>\n",
       "<p>521 rows × 9 columns</p>\n",
       "</div>"
      ],
      "text/plain": [
       "     Pregnancies  Glucose  BloodPressure  SkinThickness  Insulin   BMI  \\\n",
       "0              2      108             62             10      278  25.3   \n",
       "1              2      127             58             24      275  27.7   \n",
       "2              0       94              0              0        0   0.0   \n",
       "3              0       78             88             29       40  36.9   \n",
       "4              4      147             74             25      293  34.9   \n",
       "..           ...      ...            ...            ...      ...   ...   \n",
       "516            4      123             80             15      176  32.0   \n",
       "517            2      108             52             26       63  32.5   \n",
       "518            5      158             70              0        0  29.8   \n",
       "519            6      102             90             39        0  35.7   \n",
       "520           13      106             70              0        0  34.2   \n",
       "\n",
       "     DiabetesPedigreeFunction  Age  Outcome  \n",
       "0                       0.881   22        0  \n",
       "1                       1.600   25        0  \n",
       "2                       0.256   25        0  \n",
       "3                       0.434   21        0  \n",
       "4                       0.385   30        0  \n",
       "..                        ...  ...      ...  \n",
       "516                     0.443   34        0  \n",
       "517                     0.318   22        0  \n",
       "518                     0.207   63        0  \n",
       "519                     0.674   28        0  \n",
       "520                     0.251   52        0  \n",
       "\n",
       "[521 rows x 9 columns]"
      ]
     },
     "execution_count": 3,
     "metadata": {},
     "output_type": "execute_result"
    }
   ],
   "source": [
    "\n",
    "df=df.drop('Unnamed: 0',axis=1)\n",
    "df"
   ]
  },
  {
   "cell_type": "code",
   "execution_count": 4,
   "metadata": {},
   "outputs": [],
   "source": [
    "X=df.iloc[:,0:7]\n",
    "y=df.loc[:,'Outcome']"
   ]
  },
  {
   "cell_type": "code",
   "execution_count": 5,
   "metadata": {},
   "outputs": [],
   "source": [
    "old=pd.read_csv('diabetes.csv')"
   ]
  },
  {
   "cell_type": "code",
   "execution_count": 6,
   "metadata": {},
   "outputs": [],
   "source": [
    "X_1=old.iloc[:,0:7]\n",
    "y_1=old.loc[:,'Outcome']"
   ]
  },
  {
   "cell_type": "code",
   "execution_count": 7,
   "metadata": {},
   "outputs": [],
   "source": [
    "from sklearn.model_selection import train_test_split\n",
    "X1_train, X1_test, y1_train, y1_test = train_test_split(X_1, y_1, test_size=0.2, random_state=1)"
   ]
  },
  {
   "cell_type": "code",
   "execution_count": 8,
   "metadata": {},
   "outputs": [],
   "source": [
    "from sklearn.svm import SVC\n",
    "from sklearn.decomposition import PCA\n",
    "from sklearn.preprocessing import StandardScaler\n",
    "from sklearn.pipeline import Pipeline\n",
    "from sklearn.model_selection import GridSearchCV\n",
    "from sklearn import metrics\n",
    "\n",
    "pipe_steps=[('scaler', StandardScaler()), ('SupVM',SVC(kernel='rbf'))]\n",
    "pipeline=Pipeline(pipe_steps)"
   ]
  },
  {
   "cell_type": "code",
   "execution_count": 9,
   "metadata": {},
   "outputs": [
    {
     "data": {
      "text/plain": [
       "0.8560460652591171"
      ]
     },
     "execution_count": 9,
     "metadata": {},
     "output_type": "execute_result"
    }
   ],
   "source": [
    "check_params={'SupVM__C':[1,3,10,20,30,40,50,75,100],'SupVM__gamma':[0.001,0.01,0.05,0.1,0.3,1,3,10]}\n",
    "model=GridSearchCV(pipeline,param_grid=check_params,cv=10,scoring='accuracy')\n",
    "model.fit(X,y)\n",
    "model.score(X,y)"
   ]
  },
  {
   "cell_type": "code",
   "execution_count": 10,
   "metadata": {},
   "outputs": [
    {
     "data": {
      "text/plain": [
       "{'SupVM__C': 40, 'SupVM__gamma': 0.001}"
      ]
     },
     "execution_count": 10,
     "metadata": {},
     "output_type": "execute_result"
    }
   ],
   "source": [
    "model.best_params_"
   ]
  },
  {
   "cell_type": "code",
   "execution_count": 11,
   "metadata": {},
   "outputs": [
    {
     "data": {
      "text/plain": [
       "0.8560460652591171"
      ]
     },
     "execution_count": 11,
     "metadata": {},
     "output_type": "execute_result"
    }
   ],
   "source": [
    "model=GridSearchCV(pipeline,param_grid=check_params,cv=10,scoring='f1')\n",
    "model.fit(X,y)\n",
    "model.score(X,y)"
   ]
  },
  {
   "cell_type": "code",
   "execution_count": 12,
   "metadata": {},
   "outputs": [
    {
     "data": {
      "text/plain": [
       "0.8867562380038387"
      ]
     },
     "execution_count": 12,
     "metadata": {},
     "output_type": "execute_result"
    }
   ],
   "source": [
    "check_params={'SupVM__C':[0.1,0.3,1,3,10],'SupVM__gamma':[0.1,0.3,1,3,10]}\n",
    "model=GridSearchCV(pipeline,param_grid=check_params,cv=10,scoring='accuracy')\n",
    "model.fit(X,y)\n",
    "model.score(X,y)"
   ]
  },
  {
   "cell_type": "code",
   "execution_count": 13,
   "metadata": {},
   "outputs": [
    {
     "data": {
      "text/plain": [
       "0.8876190476190476"
      ]
     },
     "execution_count": 13,
     "metadata": {},
     "output_type": "execute_result"
    }
   ],
   "source": [
    "model=GridSearchCV(pipeline,param_grid=check_params,cv=10,scoring='f1')\n",
    "model.fit(X,y)\n",
    "model.score(X,y)"
   ]
  },
  {
   "cell_type": "code",
   "execution_count": 14,
   "metadata": {},
   "outputs": [
    {
     "name": "stdout",
     "output_type": "stream",
     "text": [
      "Start Fitting Training Data\n"
     ]
    },
    {
     "data": {
      "application/vnd.jupyter.widget-view+json": {
       "model_id": "5ab2fe3494bf468c93db1eabccb7ee7c",
       "version_major": 2,
       "version_minor": 0
      },
      "text/plain": [
       "HBox(children=(FloatProgress(value=0.0, max=6.0), HTML(value='')))"
      ]
     },
     "metadata": {},
     "output_type": "display_data"
    },
    {
     "name": "stdout",
     "output_type": "stream",
     "text": [
      "Score for 5 fold CV = 0.89\n",
      "!!!!!!!! Best-Fit Parameters From Training Data !!!!!!!!!!!!!!\n",
      "{'SupVM__C': 1, 'SupVM__gamma': 0.1}\n",
      " \n",
      " \n",
      "Score for 6 fold CV = 0.91\n",
      "!!!!!!!! Best-Fit Parameters From Training Data !!!!!!!!!!!!!!\n",
      "{'SupVM__C': 10, 'SupVM__gamma': 0.1}\n",
      " \n",
      " \n",
      "Score for 7 fold CV = 0.89\n",
      "!!!!!!!! Best-Fit Parameters From Training Data !!!!!!!!!!!!!!\n",
      "{'SupVM__C': 1, 'SupVM__gamma': 0.1}\n",
      " \n",
      " \n",
      "Score for 8 fold CV = 0.90\n",
      "!!!!!!!! Best-Fit Parameters From Training Data !!!!!!!!!!!!!!\n",
      "{'SupVM__C': 3, 'SupVM__gamma': 0.1}\n",
      " \n",
      " \n",
      "Score for 9 fold CV = 0.86\n",
      "!!!!!!!! Best-Fit Parameters From Training Data !!!!!!!!!!!!!!\n",
      "{'SupVM__C': 0.3, 'SupVM__gamma': 0.1}\n",
      " \n",
      " \n",
      "Score for 10 fold CV = 0.89\n",
      "!!!!!!!! Best-Fit Parameters From Training Data !!!!!!!!!!!!!!\n",
      "{'SupVM__C': 1, 'SupVM__gamma': 0.1}\n",
      " \n",
      " \n",
      "\n",
      "Out of Loop\n"
     ]
    }
   ],
   "source": [
    "\n",
    "from sklearn.svm import SVC\n",
    "\n",
    "from sklearn.model_selection import GridSearchCV\n",
    "\n",
    "from sklearn import preprocessing \n",
    "from sklearn.preprocessing import StandardScaler\n",
    "\n",
    "\n",
    "pipe_steps = [('scaler', StandardScaler()), ('SupVM', SVC(kernel='rbf'))]\n",
    "\n",
    "check_params={'SupVM__C':[0.001,0.005,0.1,0.3,1,3,10],'SupVM__gamma':[0.1,0.3,1,3,10,30]}\n",
    "#check_params= { \n",
    "#    'SupVM__C': [0.001,0.005,0.1, 0.5, 1, 10,30,40,41,42,43], \n",
    " #   'SupVM__gamma' : [0.001, 0.005, 0.01, 0.05, 0.07, 0.1, 0.5, 1, 5, 10, 50]\n",
    "#}\n",
    "\n",
    "\n",
    "\n",
    "\n",
    "from sklearn.pipeline import Pipeline\n",
    "\n",
    "pipeline = Pipeline(pipe_steps)\n",
    "# I love You So Much \n",
    "from tqdm import tqdm_notebook as tqdm\n",
    "from sklearn.model_selection import GridSearchCV\n",
    "import warnings\n",
    "warnings.filterwarnings(\"ignore\")\n",
    "\n",
    "print(\"Start Fitting Training Data\")\n",
    "for cvx in tqdm(range(5,11)):\n",
    "    newgrid=GridSearchCV(pipeline,param_grid=check_params,cv=cvx)\n",
    "   \n",
    "    newgrid.fit(X,y)\n",
    "    \n",
    "    print(\"Score for %d fold CV = %3.2f\"%(cvx,newgrid.score(X,y)))\n",
    "    print (\"!!!!!!!! Best-Fit Parameters From Training Data !!!!!!!!!!!!!!\")\n",
    "    print (newgrid.best_params_)\n",
    "    print(\" \")\n",
    "    print(\" \")\n",
    "    \n",
    "print(\"Out of Loop\")"
   ]
  },
  {
   "cell_type": "code",
   "execution_count": 15,
   "metadata": {},
   "outputs": [
    {
     "data": {
      "text/plain": [
       "array([[-0.54093834, -0.37912894, -0.35396023, ...,  1.76550394,\n",
       "        -0.83782517,  1.18692343],\n",
       "       [-0.54093834,  0.18387697, -0.56216038, ...,  1.73887597,\n",
       "        -0.54002069,  3.35758196],\n",
       "       [-1.12625272, -0.7939754 , -3.58106254, ..., -0.70202083,\n",
       "        -3.9771807 , -0.69994943],\n",
       "       ...,\n",
       "       [ 0.33703323,  1.10246556,  0.06244006, ..., -0.70202083,\n",
       "        -0.27944177, -0.84788026],\n",
       "       [ 0.62969042, -0.55692028,  1.10344081, ..., -0.70202083,\n",
       "         0.4526609 ,  0.56199114],\n",
       "       [ 2.67829076, -0.43839272,  0.06244006, ..., -0.70202083,\n",
       "         0.2665331 , -0.71504441]])"
      ]
     },
     "execution_count": 15,
     "metadata": {},
     "output_type": "execute_result"
    }
   ],
   "source": [
    "scaler=StandardScaler()\n",
    "X_transformed=scaler.fit_transform(X)\n",
    "X_transformed"
   ]
  },
  {
   "cell_type": "markdown",
   "metadata": {},
   "source": [
    "# SPLITTING INTO TEST AND TRAIN"
   ]
  },
  {
   "cell_type": "code",
   "execution_count": 16,
   "metadata": {},
   "outputs": [],
   "source": [
    "from sklearn.model_selection import train_test_split\n",
    "X_train, X_test, y_train, y_test = train_test_split(X, y, test_size=0.2, random_state=1)"
   ]
  },
  {
   "cell_type": "code",
   "execution_count": 17,
   "metadata": {},
   "outputs": [
    {
     "data": {
      "text/html": [
       "<div>\n",
       "<style scoped>\n",
       "    .dataframe tbody tr th:only-of-type {\n",
       "        vertical-align: middle;\n",
       "    }\n",
       "\n",
       "    .dataframe tbody tr th {\n",
       "        vertical-align: top;\n",
       "    }\n",
       "\n",
       "    .dataframe thead th {\n",
       "        text-align: right;\n",
       "    }\n",
       "</style>\n",
       "<table border=\"1\" class=\"dataframe\">\n",
       "  <thead>\n",
       "    <tr style=\"text-align: right;\">\n",
       "      <th></th>\n",
       "      <th>Pregnancies</th>\n",
       "      <th>Glucose</th>\n",
       "      <th>BloodPressure</th>\n",
       "      <th>SkinThickness</th>\n",
       "      <th>Insulin</th>\n",
       "      <th>BMI</th>\n",
       "      <th>DiabetesPedigreeFunction</th>\n",
       "    </tr>\n",
       "  </thead>\n",
       "  <tbody>\n",
       "    <tr>\n",
       "      <th>92</th>\n",
       "      <td>0</td>\n",
       "      <td>162</td>\n",
       "      <td>76</td>\n",
       "      <td>56</td>\n",
       "      <td>100</td>\n",
       "      <td>53.2</td>\n",
       "      <td>0.759</td>\n",
       "    </tr>\n",
       "    <tr>\n",
       "      <th>344</th>\n",
       "      <td>1</td>\n",
       "      <td>96</td>\n",
       "      <td>122</td>\n",
       "      <td>0</td>\n",
       "      <td>0</td>\n",
       "      <td>22.4</td>\n",
       "      <td>0.207</td>\n",
       "    </tr>\n",
       "    <tr>\n",
       "      <th>119</th>\n",
       "      <td>5</td>\n",
       "      <td>158</td>\n",
       "      <td>84</td>\n",
       "      <td>41</td>\n",
       "      <td>210</td>\n",
       "      <td>39.4</td>\n",
       "      <td>0.395</td>\n",
       "    </tr>\n",
       "    <tr>\n",
       "      <th>221</th>\n",
       "      <td>14</td>\n",
       "      <td>175</td>\n",
       "      <td>62</td>\n",
       "      <td>30</td>\n",
       "      <td>0</td>\n",
       "      <td>33.6</td>\n",
       "      <td>0.212</td>\n",
       "    </tr>\n",
       "    <tr>\n",
       "      <th>505</th>\n",
       "      <td>1</td>\n",
       "      <td>81</td>\n",
       "      <td>74</td>\n",
       "      <td>41</td>\n",
       "      <td>57</td>\n",
       "      <td>46.3</td>\n",
       "      <td>1.096</td>\n",
       "    </tr>\n",
       "    <tr>\n",
       "      <th>...</th>\n",
       "      <td>...</td>\n",
       "      <td>...</td>\n",
       "      <td>...</td>\n",
       "      <td>...</td>\n",
       "      <td>...</td>\n",
       "      <td>...</td>\n",
       "      <td>...</td>\n",
       "    </tr>\n",
       "    <tr>\n",
       "      <th>129</th>\n",
       "      <td>5</td>\n",
       "      <td>109</td>\n",
       "      <td>62</td>\n",
       "      <td>41</td>\n",
       "      <td>129</td>\n",
       "      <td>35.8</td>\n",
       "      <td>0.514</td>\n",
       "    </tr>\n",
       "    <tr>\n",
       "      <th>144</th>\n",
       "      <td>12</td>\n",
       "      <td>92</td>\n",
       "      <td>62</td>\n",
       "      <td>7</td>\n",
       "      <td>258</td>\n",
       "      <td>27.6</td>\n",
       "      <td>0.926</td>\n",
       "    </tr>\n",
       "    <tr>\n",
       "      <th>72</th>\n",
       "      <td>7</td>\n",
       "      <td>103</td>\n",
       "      <td>66</td>\n",
       "      <td>32</td>\n",
       "      <td>0</td>\n",
       "      <td>39.1</td>\n",
       "      <td>0.344</td>\n",
       "    </tr>\n",
       "    <tr>\n",
       "      <th>235</th>\n",
       "      <td>9</td>\n",
       "      <td>130</td>\n",
       "      <td>70</td>\n",
       "      <td>0</td>\n",
       "      <td>0</td>\n",
       "      <td>34.2</td>\n",
       "      <td>0.652</td>\n",
       "    </tr>\n",
       "    <tr>\n",
       "      <th>37</th>\n",
       "      <td>5</td>\n",
       "      <td>121</td>\n",
       "      <td>72</td>\n",
       "      <td>23</td>\n",
       "      <td>112</td>\n",
       "      <td>26.2</td>\n",
       "      <td>0.245</td>\n",
       "    </tr>\n",
       "  </tbody>\n",
       "</table>\n",
       "<p>416 rows × 7 columns</p>\n",
       "</div>"
      ],
      "text/plain": [
       "     Pregnancies  Glucose  BloodPressure  SkinThickness  Insulin   BMI  \\\n",
       "92             0      162             76             56      100  53.2   \n",
       "344            1       96            122              0        0  22.4   \n",
       "119            5      158             84             41      210  39.4   \n",
       "221           14      175             62             30        0  33.6   \n",
       "505            1       81             74             41       57  46.3   \n",
       "..           ...      ...            ...            ...      ...   ...   \n",
       "129            5      109             62             41      129  35.8   \n",
       "144           12       92             62              7      258  27.6   \n",
       "72             7      103             66             32        0  39.1   \n",
       "235            9      130             70              0        0  34.2   \n",
       "37             5      121             72             23      112  26.2   \n",
       "\n",
       "     DiabetesPedigreeFunction  \n",
       "92                      0.759  \n",
       "344                     0.207  \n",
       "119                     0.395  \n",
       "221                     0.212  \n",
       "505                     1.096  \n",
       "..                        ...  \n",
       "129                     0.514  \n",
       "144                     0.926  \n",
       "72                      0.344  \n",
       "235                     0.652  \n",
       "37                      0.245  \n",
       "\n",
       "[416 rows x 7 columns]"
      ]
     },
     "execution_count": 17,
     "metadata": {},
     "output_type": "execute_result"
    }
   ],
   "source": [
    "X_train"
   ]
  },
  {
   "cell_type": "code",
   "execution_count": 18,
   "metadata": {},
   "outputs": [
    {
     "data": {
      "text/plain": [
       "92     1\n",
       "344    0\n",
       "119    1\n",
       "221    1\n",
       "505    0\n",
       "      ..\n",
       "129    1\n",
       "144    1\n",
       "72     1\n",
       "235    1\n",
       "37     0\n",
       "Name: Outcome, Length: 416, dtype: int64"
      ]
     },
     "execution_count": 18,
     "metadata": {},
     "output_type": "execute_result"
    }
   ],
   "source": [
    "y_train"
   ]
  },
  {
   "cell_type": "markdown",
   "metadata": {},
   "source": [
    "# SVM WITH LINEAR KERNEL"
   ]
  },
  {
   "cell_type": "code",
   "execution_count": 19,
   "metadata": {},
   "outputs": [
    {
     "name": "stdout",
     "output_type": "stream",
     "text": [
      "Accuracy Score:\n",
      "0.819047619047619\n"
     ]
    }
   ],
   "source": [
    "svc=SVC(kernel='linear')\n",
    "svc.fit(X_train,y_train)\n",
    "y_pred=svc.predict(X_test)\n",
    "print('Accuracy Score:')\n",
    "print(metrics.accuracy_score(y_test,y_pred))"
   ]
  },
  {
   "cell_type": "markdown",
   "metadata": {},
   "source": [
    "# SVM WITH RBF KERNEL"
   ]
  },
  {
   "cell_type": "code",
   "execution_count": 20,
   "metadata": {},
   "outputs": [
    {
     "name": "stdout",
     "output_type": "stream",
     "text": [
      "Accuracy Score:\n",
      "0.8761904761904762\n"
     ]
    }
   ],
   "source": [
    "svc=SVC(kernel='rbf')\n",
    "svc.fit(X_train,y_train)\n",
    "y_pred=svc.predict(X_test)\n",
    "print('Accuracy Score:')\n",
    "print(metrics.accuracy_score(y_test,y_pred))"
   ]
  },
  {
   "cell_type": "markdown",
   "metadata": {},
   "source": [
    "# SVM WITH POLY KERNEL"
   ]
  },
  {
   "cell_type": "code",
   "execution_count": 21,
   "metadata": {},
   "outputs": [
    {
     "name": "stdout",
     "output_type": "stream",
     "text": [
      "Accuracy Score:\n",
      "0.8761904761904762\n"
     ]
    }
   ],
   "source": [
    "svc=SVC(kernel='poly')\n",
    "svc.fit(X_train,y_train)\n",
    "y_pred=svc.predict(X_test)\n",
    "print('Accuracy Score:')\n",
    "print(metrics.accuracy_score(y_test,y_pred))"
   ]
  },
  {
   "cell_type": "markdown",
   "metadata": {},
   "source": [
    "# LINEAR SVM WITH CV"
   ]
  },
  {
   "cell_type": "code",
   "execution_count": 22,
   "metadata": {},
   "outputs": [
    {
     "name": "stdout",
     "output_type": "stream",
     "text": [
      "[0.73584906 0.78846154 0.88461538 0.92307692 0.84615385 0.86538462\n",
      " 0.80769231 0.92307692 0.96153846 0.73076923]\n"
     ]
    }
   ],
   "source": [
    "from sklearn.model_selection import cross_val_score\n",
    "svc=SVC(kernel='linear')\n",
    "scores1 = cross_val_score(svc, X, y, cv=10, scoring='accuracy') #cv is cross validation\n",
    "print(scores1)"
   ]
  },
  {
   "cell_type": "code",
   "execution_count": 23,
   "metadata": {},
   "outputs": [
    {
     "data": {
      "text/plain": [
       "0.8466618287373004"
      ]
     },
     "execution_count": 23,
     "metadata": {},
     "output_type": "execute_result"
    }
   ],
   "source": [
    "scores1.mean()"
   ]
  },
  {
   "cell_type": "markdown",
   "metadata": {},
   "source": [
    "# RBF SVM WITH CV"
   ]
  },
  {
   "cell_type": "code",
   "execution_count": 24,
   "metadata": {},
   "outputs": [
    {
     "name": "stdout",
     "output_type": "stream",
     "text": [
      "[0.62264151 0.78846154 0.86538462 0.84615385 0.84615385 0.86538462\n",
      " 0.84615385 0.98076923 0.86538462 0.69230769]\n"
     ]
    }
   ],
   "source": [
    "from sklearn.model_selection import cross_val_score\n",
    "svc=SVC(kernel='rbf')\n",
    "scores2 = cross_val_score(svc, X, y, cv=10, scoring='accuracy') #cv is cross validation\n",
    "print(scores2)"
   ]
  },
  {
   "cell_type": "code",
   "execution_count": 25,
   "metadata": {},
   "outputs": [
    {
     "data": {
      "text/plain": [
       "0.8218795355587808"
      ]
     },
     "execution_count": 25,
     "metadata": {},
     "output_type": "execute_result"
    }
   ],
   "source": [
    "scores2.mean()"
   ]
  },
  {
   "cell_type": "markdown",
   "metadata": {},
   "source": [
    "# POLY SVM WITH CV"
   ]
  },
  {
   "cell_type": "code",
   "execution_count": 26,
   "metadata": {},
   "outputs": [
    {
     "name": "stdout",
     "output_type": "stream",
     "text": [
      "[0.62264151 0.75       0.90384615 0.78846154 0.80769231 0.88461538\n",
      " 0.80769231 0.94230769 0.84615385 0.80769231]\n"
     ]
    }
   ],
   "source": [
    "from sklearn.model_selection import cross_val_score\n",
    "svc=SVC(kernel='poly')\n",
    "scores3 = cross_val_score(svc, X, y, cv=10, scoring='accuracy') #cv is cross validation\n",
    "print(scores3)"
   ]
  },
  {
   "cell_type": "code",
   "execution_count": 27,
   "metadata": {},
   "outputs": [
    {
     "data": {
      "text/plain": [
       "0.8161103047895502"
      ]
     },
     "execution_count": 27,
     "metadata": {},
     "output_type": "execute_result"
    }
   ],
   "source": [
    "scores3.mean()"
   ]
  },
  {
   "cell_type": "markdown",
   "metadata": {},
   "source": [
    "# HYPERPARAMETER TUNING WITH LINEAR SVM"
   ]
  },
  {
   "cell_type": "code",
   "execution_count": 28,
   "metadata": {},
   "outputs": [
    {
     "ename": "KeyboardInterrupt",
     "evalue": "",
     "output_type": "error",
     "traceback": [
      "\u001b[1;31m---------------------------------------------------------------------------\u001b[0m",
      "\u001b[1;31mKeyboardInterrupt\u001b[0m                         Traceback (most recent call last)",
      "\u001b[1;32m<ipython-input-28-6bc71c4ae2e9>\u001b[0m in \u001b[0;36m<module>\u001b[1;34m\u001b[0m\n\u001b[0;32m      3\u001b[0m \u001b[1;32mfor\u001b[0m \u001b[0mc\u001b[0m \u001b[1;32min\u001b[0m \u001b[0mC_range\u001b[0m\u001b[1;33m:\u001b[0m\u001b[1;33m\u001b[0m\u001b[1;33m\u001b[0m\u001b[0m\n\u001b[0;32m      4\u001b[0m     \u001b[0msvc\u001b[0m \u001b[1;33m=\u001b[0m \u001b[0mSVC\u001b[0m\u001b[1;33m(\u001b[0m\u001b[0mkernel\u001b[0m\u001b[1;33m=\u001b[0m\u001b[1;34m'linear'\u001b[0m\u001b[1;33m,\u001b[0m \u001b[0mC\u001b[0m\u001b[1;33m=\u001b[0m\u001b[0mc\u001b[0m\u001b[1;33m)\u001b[0m\u001b[1;33m\u001b[0m\u001b[1;33m\u001b[0m\u001b[0m\n\u001b[1;32m----> 5\u001b[1;33m     \u001b[0mscores\u001b[0m \u001b[1;33m=\u001b[0m \u001b[0mcross_val_score\u001b[0m\u001b[1;33m(\u001b[0m\u001b[0msvc\u001b[0m\u001b[1;33m,\u001b[0m \u001b[0mX\u001b[0m\u001b[1;33m,\u001b[0m \u001b[0my\u001b[0m\u001b[1;33m,\u001b[0m \u001b[0mcv\u001b[0m\u001b[1;33m=\u001b[0m\u001b[1;36m5\u001b[0m\u001b[1;33m,\u001b[0m \u001b[0mscoring\u001b[0m\u001b[1;33m=\u001b[0m\u001b[1;34m'accuracy'\u001b[0m\u001b[1;33m)\u001b[0m\u001b[1;33m\u001b[0m\u001b[1;33m\u001b[0m\u001b[0m\n\u001b[0m\u001b[0;32m      6\u001b[0m     \u001b[0macc_score\u001b[0m\u001b[1;33m.\u001b[0m\u001b[0mappend\u001b[0m\u001b[1;33m(\u001b[0m\u001b[0mscores\u001b[0m\u001b[1;33m.\u001b[0m\u001b[0mmean\u001b[0m\u001b[1;33m(\u001b[0m\u001b[1;33m)\u001b[0m\u001b[1;33m)\u001b[0m\u001b[1;33m\u001b[0m\u001b[1;33m\u001b[0m\u001b[0m\n\u001b[0;32m      7\u001b[0m \u001b[0mprint\u001b[0m\u001b[1;33m(\u001b[0m\u001b[0macc_score\u001b[0m\u001b[1;33m)\u001b[0m\u001b[1;33m\u001b[0m\u001b[1;33m\u001b[0m\u001b[0m\n",
      "\u001b[1;32m~\\Anaconda3\\lib\\site-packages\\sklearn\\utils\\validation.py\u001b[0m in \u001b[0;36minner_f\u001b[1;34m(*args, **kwargs)\u001b[0m\n\u001b[0;32m     71\u001b[0m                           FutureWarning)\n\u001b[0;32m     72\u001b[0m         \u001b[0mkwargs\u001b[0m\u001b[1;33m.\u001b[0m\u001b[0mupdate\u001b[0m\u001b[1;33m(\u001b[0m\u001b[1;33m{\u001b[0m\u001b[0mk\u001b[0m\u001b[1;33m:\u001b[0m \u001b[0marg\u001b[0m \u001b[1;32mfor\u001b[0m \u001b[0mk\u001b[0m\u001b[1;33m,\u001b[0m \u001b[0marg\u001b[0m \u001b[1;32min\u001b[0m \u001b[0mzip\u001b[0m\u001b[1;33m(\u001b[0m\u001b[0msig\u001b[0m\u001b[1;33m.\u001b[0m\u001b[0mparameters\u001b[0m\u001b[1;33m,\u001b[0m \u001b[0margs\u001b[0m\u001b[1;33m)\u001b[0m\u001b[1;33m}\u001b[0m\u001b[1;33m)\u001b[0m\u001b[1;33m\u001b[0m\u001b[1;33m\u001b[0m\u001b[0m\n\u001b[1;32m---> 73\u001b[1;33m         \u001b[1;32mreturn\u001b[0m \u001b[0mf\u001b[0m\u001b[1;33m(\u001b[0m\u001b[1;33m**\u001b[0m\u001b[0mkwargs\u001b[0m\u001b[1;33m)\u001b[0m\u001b[1;33m\u001b[0m\u001b[1;33m\u001b[0m\u001b[0m\n\u001b[0m\u001b[0;32m     74\u001b[0m     \u001b[1;32mreturn\u001b[0m \u001b[0minner_f\u001b[0m\u001b[1;33m\u001b[0m\u001b[1;33m\u001b[0m\u001b[0m\n\u001b[0;32m     75\u001b[0m \u001b[1;33m\u001b[0m\u001b[0m\n",
      "\u001b[1;32m~\\Anaconda3\\lib\\site-packages\\sklearn\\model_selection\\_validation.py\u001b[0m in \u001b[0;36mcross_val_score\u001b[1;34m(estimator, X, y, groups, scoring, cv, n_jobs, verbose, fit_params, pre_dispatch, error_score)\u001b[0m\n\u001b[0;32m    404\u001b[0m                                 \u001b[0mfit_params\u001b[0m\u001b[1;33m=\u001b[0m\u001b[0mfit_params\u001b[0m\u001b[1;33m,\u001b[0m\u001b[1;33m\u001b[0m\u001b[1;33m\u001b[0m\u001b[0m\n\u001b[0;32m    405\u001b[0m                                 \u001b[0mpre_dispatch\u001b[0m\u001b[1;33m=\u001b[0m\u001b[0mpre_dispatch\u001b[0m\u001b[1;33m,\u001b[0m\u001b[1;33m\u001b[0m\u001b[1;33m\u001b[0m\u001b[0m\n\u001b[1;32m--> 406\u001b[1;33m                                 error_score=error_score)\n\u001b[0m\u001b[0;32m    407\u001b[0m     \u001b[1;32mreturn\u001b[0m \u001b[0mcv_results\u001b[0m\u001b[1;33m[\u001b[0m\u001b[1;34m'test_score'\u001b[0m\u001b[1;33m]\u001b[0m\u001b[1;33m\u001b[0m\u001b[1;33m\u001b[0m\u001b[0m\n\u001b[0;32m    408\u001b[0m \u001b[1;33m\u001b[0m\u001b[0m\n",
      "\u001b[1;32m~\\Anaconda3\\lib\\site-packages\\sklearn\\utils\\validation.py\u001b[0m in \u001b[0;36minner_f\u001b[1;34m(*args, **kwargs)\u001b[0m\n\u001b[0;32m     71\u001b[0m                           FutureWarning)\n\u001b[0;32m     72\u001b[0m         \u001b[0mkwargs\u001b[0m\u001b[1;33m.\u001b[0m\u001b[0mupdate\u001b[0m\u001b[1;33m(\u001b[0m\u001b[1;33m{\u001b[0m\u001b[0mk\u001b[0m\u001b[1;33m:\u001b[0m \u001b[0marg\u001b[0m \u001b[1;32mfor\u001b[0m \u001b[0mk\u001b[0m\u001b[1;33m,\u001b[0m \u001b[0marg\u001b[0m \u001b[1;32min\u001b[0m \u001b[0mzip\u001b[0m\u001b[1;33m(\u001b[0m\u001b[0msig\u001b[0m\u001b[1;33m.\u001b[0m\u001b[0mparameters\u001b[0m\u001b[1;33m,\u001b[0m \u001b[0margs\u001b[0m\u001b[1;33m)\u001b[0m\u001b[1;33m}\u001b[0m\u001b[1;33m)\u001b[0m\u001b[1;33m\u001b[0m\u001b[1;33m\u001b[0m\u001b[0m\n\u001b[1;32m---> 73\u001b[1;33m         \u001b[1;32mreturn\u001b[0m \u001b[0mf\u001b[0m\u001b[1;33m(\u001b[0m\u001b[1;33m**\u001b[0m\u001b[0mkwargs\u001b[0m\u001b[1;33m)\u001b[0m\u001b[1;33m\u001b[0m\u001b[1;33m\u001b[0m\u001b[0m\n\u001b[0m\u001b[0;32m     74\u001b[0m     \u001b[1;32mreturn\u001b[0m \u001b[0minner_f\u001b[0m\u001b[1;33m\u001b[0m\u001b[1;33m\u001b[0m\u001b[0m\n\u001b[0;32m     75\u001b[0m \u001b[1;33m\u001b[0m\u001b[0m\n",
      "\u001b[1;32m~\\Anaconda3\\lib\\site-packages\\sklearn\\model_selection\\_validation.py\u001b[0m in \u001b[0;36mcross_validate\u001b[1;34m(estimator, X, y, groups, scoring, cv, n_jobs, verbose, fit_params, pre_dispatch, return_train_score, return_estimator, error_score)\u001b[0m\n\u001b[0;32m    246\u001b[0m             \u001b[0mreturn_times\u001b[0m\u001b[1;33m=\u001b[0m\u001b[1;32mTrue\u001b[0m\u001b[1;33m,\u001b[0m \u001b[0mreturn_estimator\u001b[0m\u001b[1;33m=\u001b[0m\u001b[0mreturn_estimator\u001b[0m\u001b[1;33m,\u001b[0m\u001b[1;33m\u001b[0m\u001b[1;33m\u001b[0m\u001b[0m\n\u001b[0;32m    247\u001b[0m             error_score=error_score)\n\u001b[1;32m--> 248\u001b[1;33m         for train, test in cv.split(X, y, groups))\n\u001b[0m\u001b[0;32m    249\u001b[0m \u001b[1;33m\u001b[0m\u001b[0m\n\u001b[0;32m    250\u001b[0m     \u001b[0mzipped_scores\u001b[0m \u001b[1;33m=\u001b[0m \u001b[0mlist\u001b[0m\u001b[1;33m(\u001b[0m\u001b[0mzip\u001b[0m\u001b[1;33m(\u001b[0m\u001b[1;33m*\u001b[0m\u001b[0mscores\u001b[0m\u001b[1;33m)\u001b[0m\u001b[1;33m)\u001b[0m\u001b[1;33m\u001b[0m\u001b[1;33m\u001b[0m\u001b[0m\n",
      "\u001b[1;32m~\\AppData\\Roaming\\Python\\Python37\\site-packages\\joblib\\parallel.py\u001b[0m in \u001b[0;36m__call__\u001b[1;34m(self, iterable)\u001b[0m\n\u001b[0;32m   1002\u001b[0m             \u001b[1;31m# remaining jobs.\u001b[0m\u001b[1;33m\u001b[0m\u001b[1;33m\u001b[0m\u001b[1;33m\u001b[0m\u001b[0m\n\u001b[0;32m   1003\u001b[0m             \u001b[0mself\u001b[0m\u001b[1;33m.\u001b[0m\u001b[0m_iterating\u001b[0m \u001b[1;33m=\u001b[0m \u001b[1;32mFalse\u001b[0m\u001b[1;33m\u001b[0m\u001b[1;33m\u001b[0m\u001b[0m\n\u001b[1;32m-> 1004\u001b[1;33m             \u001b[1;32mif\u001b[0m \u001b[0mself\u001b[0m\u001b[1;33m.\u001b[0m\u001b[0mdispatch_one_batch\u001b[0m\u001b[1;33m(\u001b[0m\u001b[0miterator\u001b[0m\u001b[1;33m)\u001b[0m\u001b[1;33m:\u001b[0m\u001b[1;33m\u001b[0m\u001b[1;33m\u001b[0m\u001b[0m\n\u001b[0m\u001b[0;32m   1005\u001b[0m                 \u001b[0mself\u001b[0m\u001b[1;33m.\u001b[0m\u001b[0m_iterating\u001b[0m \u001b[1;33m=\u001b[0m \u001b[0mself\u001b[0m\u001b[1;33m.\u001b[0m\u001b[0m_original_iterator\u001b[0m \u001b[1;32mis\u001b[0m \u001b[1;32mnot\u001b[0m \u001b[1;32mNone\u001b[0m\u001b[1;33m\u001b[0m\u001b[1;33m\u001b[0m\u001b[0m\n\u001b[0;32m   1006\u001b[0m \u001b[1;33m\u001b[0m\u001b[0m\n",
      "\u001b[1;32m~\\AppData\\Roaming\\Python\\Python37\\site-packages\\joblib\\parallel.py\u001b[0m in \u001b[0;36mdispatch_one_batch\u001b[1;34m(self, iterator)\u001b[0m\n\u001b[0;32m    833\u001b[0m                 \u001b[1;32mreturn\u001b[0m \u001b[1;32mFalse\u001b[0m\u001b[1;33m\u001b[0m\u001b[1;33m\u001b[0m\u001b[0m\n\u001b[0;32m    834\u001b[0m             \u001b[1;32melse\u001b[0m\u001b[1;33m:\u001b[0m\u001b[1;33m\u001b[0m\u001b[1;33m\u001b[0m\u001b[0m\n\u001b[1;32m--> 835\u001b[1;33m                 \u001b[0mself\u001b[0m\u001b[1;33m.\u001b[0m\u001b[0m_dispatch\u001b[0m\u001b[1;33m(\u001b[0m\u001b[0mtasks\u001b[0m\u001b[1;33m)\u001b[0m\u001b[1;33m\u001b[0m\u001b[1;33m\u001b[0m\u001b[0m\n\u001b[0m\u001b[0;32m    836\u001b[0m                 \u001b[1;32mreturn\u001b[0m \u001b[1;32mTrue\u001b[0m\u001b[1;33m\u001b[0m\u001b[1;33m\u001b[0m\u001b[0m\n\u001b[0;32m    837\u001b[0m \u001b[1;33m\u001b[0m\u001b[0m\n",
      "\u001b[1;32m~\\AppData\\Roaming\\Python\\Python37\\site-packages\\joblib\\parallel.py\u001b[0m in \u001b[0;36m_dispatch\u001b[1;34m(self, batch)\u001b[0m\n\u001b[0;32m    752\u001b[0m         \u001b[1;32mwith\u001b[0m \u001b[0mself\u001b[0m\u001b[1;33m.\u001b[0m\u001b[0m_lock\u001b[0m\u001b[1;33m:\u001b[0m\u001b[1;33m\u001b[0m\u001b[1;33m\u001b[0m\u001b[0m\n\u001b[0;32m    753\u001b[0m             \u001b[0mjob_idx\u001b[0m \u001b[1;33m=\u001b[0m \u001b[0mlen\u001b[0m\u001b[1;33m(\u001b[0m\u001b[0mself\u001b[0m\u001b[1;33m.\u001b[0m\u001b[0m_jobs\u001b[0m\u001b[1;33m)\u001b[0m\u001b[1;33m\u001b[0m\u001b[1;33m\u001b[0m\u001b[0m\n\u001b[1;32m--> 754\u001b[1;33m             \u001b[0mjob\u001b[0m \u001b[1;33m=\u001b[0m \u001b[0mself\u001b[0m\u001b[1;33m.\u001b[0m\u001b[0m_backend\u001b[0m\u001b[1;33m.\u001b[0m\u001b[0mapply_async\u001b[0m\u001b[1;33m(\u001b[0m\u001b[0mbatch\u001b[0m\u001b[1;33m,\u001b[0m \u001b[0mcallback\u001b[0m\u001b[1;33m=\u001b[0m\u001b[0mcb\u001b[0m\u001b[1;33m)\u001b[0m\u001b[1;33m\u001b[0m\u001b[1;33m\u001b[0m\u001b[0m\n\u001b[0m\u001b[0;32m    755\u001b[0m             \u001b[1;31m# A job can complete so quickly than its callback is\u001b[0m\u001b[1;33m\u001b[0m\u001b[1;33m\u001b[0m\u001b[1;33m\u001b[0m\u001b[0m\n\u001b[0;32m    756\u001b[0m             \u001b[1;31m# called before we get here, causing self._jobs to\u001b[0m\u001b[1;33m\u001b[0m\u001b[1;33m\u001b[0m\u001b[1;33m\u001b[0m\u001b[0m\n",
      "\u001b[1;32m~\\AppData\\Roaming\\Python\\Python37\\site-packages\\joblib\\_parallel_backends.py\u001b[0m in \u001b[0;36mapply_async\u001b[1;34m(self, func, callback)\u001b[0m\n\u001b[0;32m    207\u001b[0m     \u001b[1;32mdef\u001b[0m \u001b[0mapply_async\u001b[0m\u001b[1;33m(\u001b[0m\u001b[0mself\u001b[0m\u001b[1;33m,\u001b[0m \u001b[0mfunc\u001b[0m\u001b[1;33m,\u001b[0m \u001b[0mcallback\u001b[0m\u001b[1;33m=\u001b[0m\u001b[1;32mNone\u001b[0m\u001b[1;33m)\u001b[0m\u001b[1;33m:\u001b[0m\u001b[1;33m\u001b[0m\u001b[1;33m\u001b[0m\u001b[0m\n\u001b[0;32m    208\u001b[0m         \u001b[1;34m\"\"\"Schedule a func to be run\"\"\"\u001b[0m\u001b[1;33m\u001b[0m\u001b[1;33m\u001b[0m\u001b[0m\n\u001b[1;32m--> 209\u001b[1;33m         \u001b[0mresult\u001b[0m \u001b[1;33m=\u001b[0m \u001b[0mImmediateResult\u001b[0m\u001b[1;33m(\u001b[0m\u001b[0mfunc\u001b[0m\u001b[1;33m)\u001b[0m\u001b[1;33m\u001b[0m\u001b[1;33m\u001b[0m\u001b[0m\n\u001b[0m\u001b[0;32m    210\u001b[0m         \u001b[1;32mif\u001b[0m \u001b[0mcallback\u001b[0m\u001b[1;33m:\u001b[0m\u001b[1;33m\u001b[0m\u001b[1;33m\u001b[0m\u001b[0m\n\u001b[0;32m    211\u001b[0m             \u001b[0mcallback\u001b[0m\u001b[1;33m(\u001b[0m\u001b[0mresult\u001b[0m\u001b[1;33m)\u001b[0m\u001b[1;33m\u001b[0m\u001b[1;33m\u001b[0m\u001b[0m\n",
      "\u001b[1;32m~\\AppData\\Roaming\\Python\\Python37\\site-packages\\joblib\\_parallel_backends.py\u001b[0m in \u001b[0;36m__init__\u001b[1;34m(self, batch)\u001b[0m\n\u001b[0;32m    588\u001b[0m         \u001b[1;31m# Don't delay the application, to avoid keeping the input\u001b[0m\u001b[1;33m\u001b[0m\u001b[1;33m\u001b[0m\u001b[1;33m\u001b[0m\u001b[0m\n\u001b[0;32m    589\u001b[0m         \u001b[1;31m# arguments in memory\u001b[0m\u001b[1;33m\u001b[0m\u001b[1;33m\u001b[0m\u001b[1;33m\u001b[0m\u001b[0m\n\u001b[1;32m--> 590\u001b[1;33m         \u001b[0mself\u001b[0m\u001b[1;33m.\u001b[0m\u001b[0mresults\u001b[0m \u001b[1;33m=\u001b[0m \u001b[0mbatch\u001b[0m\u001b[1;33m(\u001b[0m\u001b[1;33m)\u001b[0m\u001b[1;33m\u001b[0m\u001b[1;33m\u001b[0m\u001b[0m\n\u001b[0m\u001b[0;32m    591\u001b[0m \u001b[1;33m\u001b[0m\u001b[0m\n\u001b[0;32m    592\u001b[0m     \u001b[1;32mdef\u001b[0m \u001b[0mget\u001b[0m\u001b[1;33m(\u001b[0m\u001b[0mself\u001b[0m\u001b[1;33m)\u001b[0m\u001b[1;33m:\u001b[0m\u001b[1;33m\u001b[0m\u001b[1;33m\u001b[0m\u001b[0m\n",
      "\u001b[1;32m~\\AppData\\Roaming\\Python\\Python37\\site-packages\\joblib\\parallel.py\u001b[0m in \u001b[0;36m__call__\u001b[1;34m(self)\u001b[0m\n\u001b[0;32m    254\u001b[0m         \u001b[1;32mwith\u001b[0m \u001b[0mparallel_backend\u001b[0m\u001b[1;33m(\u001b[0m\u001b[0mself\u001b[0m\u001b[1;33m.\u001b[0m\u001b[0m_backend\u001b[0m\u001b[1;33m,\u001b[0m \u001b[0mn_jobs\u001b[0m\u001b[1;33m=\u001b[0m\u001b[0mself\u001b[0m\u001b[1;33m.\u001b[0m\u001b[0m_n_jobs\u001b[0m\u001b[1;33m)\u001b[0m\u001b[1;33m:\u001b[0m\u001b[1;33m\u001b[0m\u001b[1;33m\u001b[0m\u001b[0m\n\u001b[0;32m    255\u001b[0m             return [func(*args, **kwargs)\n\u001b[1;32m--> 256\u001b[1;33m                     for func, args, kwargs in self.items]\n\u001b[0m\u001b[0;32m    257\u001b[0m \u001b[1;33m\u001b[0m\u001b[0m\n\u001b[0;32m    258\u001b[0m     \u001b[1;32mdef\u001b[0m \u001b[0m__len__\u001b[0m\u001b[1;33m(\u001b[0m\u001b[0mself\u001b[0m\u001b[1;33m)\u001b[0m\u001b[1;33m:\u001b[0m\u001b[1;33m\u001b[0m\u001b[1;33m\u001b[0m\u001b[0m\n",
      "\u001b[1;32m~\\AppData\\Roaming\\Python\\Python37\\site-packages\\joblib\\parallel.py\u001b[0m in \u001b[0;36m<listcomp>\u001b[1;34m(.0)\u001b[0m\n\u001b[0;32m    254\u001b[0m         \u001b[1;32mwith\u001b[0m \u001b[0mparallel_backend\u001b[0m\u001b[1;33m(\u001b[0m\u001b[0mself\u001b[0m\u001b[1;33m.\u001b[0m\u001b[0m_backend\u001b[0m\u001b[1;33m,\u001b[0m \u001b[0mn_jobs\u001b[0m\u001b[1;33m=\u001b[0m\u001b[0mself\u001b[0m\u001b[1;33m.\u001b[0m\u001b[0m_n_jobs\u001b[0m\u001b[1;33m)\u001b[0m\u001b[1;33m:\u001b[0m\u001b[1;33m\u001b[0m\u001b[1;33m\u001b[0m\u001b[0m\n\u001b[0;32m    255\u001b[0m             return [func(*args, **kwargs)\n\u001b[1;32m--> 256\u001b[1;33m                     for func, args, kwargs in self.items]\n\u001b[0m\u001b[0;32m    257\u001b[0m \u001b[1;33m\u001b[0m\u001b[0m\n\u001b[0;32m    258\u001b[0m     \u001b[1;32mdef\u001b[0m \u001b[0m__len__\u001b[0m\u001b[1;33m(\u001b[0m\u001b[0mself\u001b[0m\u001b[1;33m)\u001b[0m\u001b[1;33m:\u001b[0m\u001b[1;33m\u001b[0m\u001b[1;33m\u001b[0m\u001b[0m\n",
      "\u001b[1;32m~\\Anaconda3\\lib\\site-packages\\sklearn\\model_selection\\_validation.py\u001b[0m in \u001b[0;36m_fit_and_score\u001b[1;34m(estimator, X, y, scorer, train, test, verbose, parameters, fit_params, return_train_score, return_parameters, return_n_test_samples, return_times, return_estimator, error_score)\u001b[0m\n\u001b[0;32m    529\u001b[0m             \u001b[0mestimator\u001b[0m\u001b[1;33m.\u001b[0m\u001b[0mfit\u001b[0m\u001b[1;33m(\u001b[0m\u001b[0mX_train\u001b[0m\u001b[1;33m,\u001b[0m \u001b[1;33m**\u001b[0m\u001b[0mfit_params\u001b[0m\u001b[1;33m)\u001b[0m\u001b[1;33m\u001b[0m\u001b[1;33m\u001b[0m\u001b[0m\n\u001b[0;32m    530\u001b[0m         \u001b[1;32melse\u001b[0m\u001b[1;33m:\u001b[0m\u001b[1;33m\u001b[0m\u001b[1;33m\u001b[0m\u001b[0m\n\u001b[1;32m--> 531\u001b[1;33m             \u001b[0mestimator\u001b[0m\u001b[1;33m.\u001b[0m\u001b[0mfit\u001b[0m\u001b[1;33m(\u001b[0m\u001b[0mX_train\u001b[0m\u001b[1;33m,\u001b[0m \u001b[0my_train\u001b[0m\u001b[1;33m,\u001b[0m \u001b[1;33m**\u001b[0m\u001b[0mfit_params\u001b[0m\u001b[1;33m)\u001b[0m\u001b[1;33m\u001b[0m\u001b[1;33m\u001b[0m\u001b[0m\n\u001b[0m\u001b[0;32m    532\u001b[0m \u001b[1;33m\u001b[0m\u001b[0m\n\u001b[0;32m    533\u001b[0m     \u001b[1;32mexcept\u001b[0m \u001b[0mException\u001b[0m \u001b[1;32mas\u001b[0m \u001b[0me\u001b[0m\u001b[1;33m:\u001b[0m\u001b[1;33m\u001b[0m\u001b[1;33m\u001b[0m\u001b[0m\n",
      "\u001b[1;32m~\\Anaconda3\\lib\\site-packages\\sklearn\\svm\\_base.py\u001b[0m in \u001b[0;36mfit\u001b[1;34m(self, X, y, sample_weight)\u001b[0m\n\u001b[0;32m    215\u001b[0m \u001b[1;33m\u001b[0m\u001b[0m\n\u001b[0;32m    216\u001b[0m         \u001b[0mseed\u001b[0m \u001b[1;33m=\u001b[0m \u001b[0mrnd\u001b[0m\u001b[1;33m.\u001b[0m\u001b[0mrandint\u001b[0m\u001b[1;33m(\u001b[0m\u001b[0mnp\u001b[0m\u001b[1;33m.\u001b[0m\u001b[0miinfo\u001b[0m\u001b[1;33m(\u001b[0m\u001b[1;34m'i'\u001b[0m\u001b[1;33m)\u001b[0m\u001b[1;33m.\u001b[0m\u001b[0mmax\u001b[0m\u001b[1;33m)\u001b[0m\u001b[1;33m\u001b[0m\u001b[1;33m\u001b[0m\u001b[0m\n\u001b[1;32m--> 217\u001b[1;33m         \u001b[0mfit\u001b[0m\u001b[1;33m(\u001b[0m\u001b[0mX\u001b[0m\u001b[1;33m,\u001b[0m \u001b[0my\u001b[0m\u001b[1;33m,\u001b[0m \u001b[0msample_weight\u001b[0m\u001b[1;33m,\u001b[0m \u001b[0msolver_type\u001b[0m\u001b[1;33m,\u001b[0m \u001b[0mkernel\u001b[0m\u001b[1;33m,\u001b[0m \u001b[0mrandom_seed\u001b[0m\u001b[1;33m=\u001b[0m\u001b[0mseed\u001b[0m\u001b[1;33m)\u001b[0m\u001b[1;33m\u001b[0m\u001b[1;33m\u001b[0m\u001b[0m\n\u001b[0m\u001b[0;32m    218\u001b[0m         \u001b[1;31m# see comment on the other call to np.iinfo in this file\u001b[0m\u001b[1;33m\u001b[0m\u001b[1;33m\u001b[0m\u001b[1;33m\u001b[0m\u001b[0m\n\u001b[0;32m    219\u001b[0m \u001b[1;33m\u001b[0m\u001b[0m\n",
      "\u001b[1;32m~\\Anaconda3\\lib\\site-packages\\sklearn\\svm\\_base.py\u001b[0m in \u001b[0;36m_dense_fit\u001b[1;34m(self, X, y, sample_weight, solver_type, kernel, random_seed)\u001b[0m\n\u001b[0;32m    274\u001b[0m                 \u001b[0mcache_size\u001b[0m\u001b[1;33m=\u001b[0m\u001b[0mself\u001b[0m\u001b[1;33m.\u001b[0m\u001b[0mcache_size\u001b[0m\u001b[1;33m,\u001b[0m \u001b[0mcoef0\u001b[0m\u001b[1;33m=\u001b[0m\u001b[0mself\u001b[0m\u001b[1;33m.\u001b[0m\u001b[0mcoef0\u001b[0m\u001b[1;33m,\u001b[0m\u001b[1;33m\u001b[0m\u001b[1;33m\u001b[0m\u001b[0m\n\u001b[0;32m    275\u001b[0m                 \u001b[0mgamma\u001b[0m\u001b[1;33m=\u001b[0m\u001b[0mself\u001b[0m\u001b[1;33m.\u001b[0m\u001b[0m_gamma\u001b[0m\u001b[1;33m,\u001b[0m \u001b[0mepsilon\u001b[0m\u001b[1;33m=\u001b[0m\u001b[0mself\u001b[0m\u001b[1;33m.\u001b[0m\u001b[0mepsilon\u001b[0m\u001b[1;33m,\u001b[0m\u001b[1;33m\u001b[0m\u001b[1;33m\u001b[0m\u001b[0m\n\u001b[1;32m--> 276\u001b[1;33m                 max_iter=self.max_iter, random_seed=random_seed)\n\u001b[0m\u001b[0;32m    277\u001b[0m \u001b[1;33m\u001b[0m\u001b[0m\n\u001b[0;32m    278\u001b[0m         \u001b[0mself\u001b[0m\u001b[1;33m.\u001b[0m\u001b[0m_warn_from_fit_status\u001b[0m\u001b[1;33m(\u001b[0m\u001b[1;33m)\u001b[0m\u001b[1;33m\u001b[0m\u001b[1;33m\u001b[0m\u001b[0m\n",
      "\u001b[1;31mKeyboardInterrupt\u001b[0m: "
     ]
    }
   ],
   "source": [
    "C_range=list(range(1,10))\n",
    "acc_score=[]\n",
    "for c in C_range:\n",
    "    svc = SVC(kernel='linear', C=c)\n",
    "    scores = cross_val_score(svc, X, y, cv=5, scoring='accuracy')\n",
    "    acc_score.append(scores.mean())\n",
    "print(acc_score)    "
   ]
  },
  {
   "cell_type": "code",
   "execution_count": null,
   "metadata": {},
   "outputs": [],
   "source": [
    "import matplotlib.pyplot as plt\n",
    "#%matplotlib inline\n",
    "\n",
    "\n",
    "C_values=list(range(1,10))\n",
    "# plot the value of C for SVM (x-axis) versus the cross-validated accuracy (y-axis)\n",
    "plt.plot(C_values,acc_score)\n",
    "plt.xticks(np.arange(0,10,0.5))\n",
    "plt.xlabel('Value of C for SVC')\n",
    "plt.ylabel('Cross-Validated Accuracy')"
   ]
  },
  {
   "cell_type": "code",
   "execution_count": null,
   "metadata": {},
   "outputs": [],
   "source": [
    "C_range=list(np.arange(2,4,0.2))\n",
    "acc_score=[]\n",
    "for c in C_range:\n",
    "    svc = SVC(kernel='linear', C=c)\n",
    "    scores = cross_val_score(svc, X, y, cv=5, scoring='accuracy')\n",
    "    acc_score.append(scores.mean())\n",
    "print(acc_score)    "
   ]
  },
  {
   "cell_type": "code",
   "execution_count": null,
   "metadata": {},
   "outputs": [],
   "source": [
    "C_values=list(np.arange(2,4,0.2))\n",
    "# plot the value of C for SVM (x-axis) versus the cross-validated accuracy (y-axis)\n",
    "plt.plot(C_values,acc_score)\n",
    "plt.xticks(np.arange(2,4,0.2))\n",
    "plt.xlabel('Value of C for SVC ')\n",
    "plt.ylabel('Cross-Validated Accuracy')"
   ]
  },
  {
   "cell_type": "code",
   "execution_count": null,
   "metadata": {},
   "outputs": [],
   "source": [
    "acc_score=[]\n",
    "for cvx in range(2,10):\n",
    "    svc = SVC(kernel='linear', C=3)\n",
    "    scores = cross_val_score(svc,X, y, cv=cvx, scoring='accuracy')\n",
    "    acc_score.append(scores.mean())\n",
    "print(acc_score)"
   ]
  },
  {
   "cell_type": "code",
   "execution_count": 29,
   "metadata": {},
   "outputs": [],
   "source": [
    "from sklearn.svm import SVC\n",
    "from sklearn.decomposition import PCA\n",
    "from sklearn.preprocessing import StandardScaler\n",
    "from sklearn.pipeline import Pipeline\n",
    "from sklearn.model_selection import GridSearchCV\n",
    "from sklearn import metrics\n",
    "\n",
    "pipe_steps=[('scaler', StandardScaler()), ('SupVM',SVC(kernel='linear'))]\n",
    "pipeline=Pipeline(pipe_steps)"
   ]
  },
  {
   "cell_type": "code",
   "execution_count": 30,
   "metadata": {},
   "outputs": [],
   "source": [
    "check_params={'SupVM__C':[0.001,0.01,0.1,1,2,3]}"
   ]
  },
  {
   "cell_type": "code",
   "execution_count": 31,
   "metadata": {
    "scrolled": true
   },
   "outputs": [
    {
     "data": {
      "text/plain": [
       "0.8522072936660269"
      ]
     },
     "execution_count": 31,
     "metadata": {},
     "output_type": "execute_result"
    }
   ],
   "source": [
    "model=GridSearchCV(pipeline,param_grid=check_params,cv=5,scoring='accuracy')\n",
    "model.fit(X,y)\n",
    "model.score(X,y)"
   ]
  },
  {
   "cell_type": "code",
   "execution_count": 32,
   "metadata": {},
   "outputs": [
    {
     "data": {
      "text/plain": [
       "{'SupVM__C': 2}"
      ]
     },
     "execution_count": 32,
     "metadata": {},
     "output_type": "execute_result"
    }
   ],
   "source": [
    "model.best_params_"
   ]
  },
  {
   "cell_type": "markdown",
   "metadata": {},
   "source": [
    "# HYPERTUNING WITH RBF SVM"
   ]
  },
  {
   "cell_type": "code",
   "execution_count": 33,
   "metadata": {},
   "outputs": [
    {
     "name": "stdout",
     "output_type": "stream",
     "text": [
      "[nan, 0.8198168498168498, 0.8217948717948718, 0.8275457875457877, 0.8313736263736263, 0.8313736263736263, 0.8352014652014652, 0.8352014652014652, 0.8332783882783883, 0.8313553113553113]\n"
     ]
    }
   ],
   "source": [
    "C_range=list(range(0,10))\n",
    "acc_score=[]\n",
    "for c in C_range:\n",
    "    svc = SVC(kernel='rbf', C=c)\n",
    "    scores = cross_val_score(svc, X, y, cv=5, scoring='accuracy')\n",
    "    acc_score.append(scores.mean())\n",
    "print(acc_score)    "
   ]
  },
  {
   "cell_type": "code",
   "execution_count": 34,
   "metadata": {},
   "outputs": [
    {
     "data": {
      "text/plain": [
       "Text(0, 0.5, 'Cross-Validated Accuracy')"
      ]
     },
     "execution_count": 34,
     "metadata": {},
     "output_type": "execute_result"
    },
    {
     "data": {
      "image/png": "[encoded data removed]",
      "text/plain": [
       "<Figure size 432x288 with 1 Axes>"
      ]
     },
     "metadata": {
      "needs_background": "light"
     },
     "output_type": "display_data"
    }
   ],
   "source": [
    "import matplotlib.pyplot as plt\n",
    "#%matplotlib inline\n",
    "\n",
    "\n",
    "C_values=list(range(0,10))\n",
    "# plot the value of C for SVM (x-axis) versus the cross-validated accuracy (y-axis)\n",
    "plt.plot(C_values,acc_score)\n",
    "plt.xticks(np.arange(0,10,0.5))\n",
    "plt.xlabel('Value of C for SVC')\n",
    "plt.ylabel('Cross-Validated Accuracy')"
   ]
  },
  {
   "cell_type": "code",
   "execution_count": 35,
   "metadata": {},
   "outputs": [
    {
     "name": "stdout",
     "output_type": "stream",
     "text": [
      "[0.8197802197802198, 0.8178571428571428, 0.8198168498168498, 0.8217399267399268, 0.8198351648351648, 0.8198351648351648, 0.8198351648351648, 0.8256043956043955, 0.8237179487179487, 0.8217948717948718, 0.8236996336996336, 0.8256043956043955, 0.8313553113553114]\n"
     ]
    }
   ],
   "source": [
    "C_range=list(np.arange(0.5,3,0.2))\n",
    "acc_score=[]\n",
    "for c in C_range:\n",
    "    svc = SVC(kernel='rbf', C=c)\n",
    "    scores = cross_val_score(svc, X, y, cv=5, scoring='accuracy')\n",
    "    acc_score.append(scores.mean())\n",
    "print(acc_score)    "
   ]
  },
  {
   "cell_type": "code",
   "execution_count": 36,
   "metadata": {},
   "outputs": [
    {
     "data": {
      "text/plain": [
       "Text(0, 0.5, 'Cross-Validated Accuracy')"
      ]
     },
     "execution_count": 36,
     "metadata": {},
     "output_type": "execute_result"
    },
    {
     "data": {
      "image/png": "[encoded data removed]",
      "text/plain": [
       "<Figure size 432x288 with 1 Axes>"
      ]
     },
     "metadata": {
      "needs_background": "light"
     },
     "output_type": "display_data"
    }
   ],
   "source": [
    "C_values=list(np.arange(0.5,3,0.2))\n",
    "# plot the value of C for SVM (x-axis) versus the cross-validated accuracy (y-axis)\n",
    "plt.plot(C_values,acc_score)\n",
    "plt.xticks(np.arange(0.5,3,0.2))\n",
    "plt.xlabel('Value of C for SVC ')\n",
    "plt.ylabel('Cross-Validated Accuracy')"
   ]
  },
  {
   "cell_type": "code",
   "execution_count": 37,
   "metadata": {},
   "outputs": [
    {
     "name": "stdout",
     "output_type": "stream",
     "text": [
      "[0.8332783882783883, 0.8447619047619048, 0.8063003663003663, 0.5604578754578755, 0.5143956043956044, 0.5143956043956044, 0.5143956043956044]\n"
     ]
    }
   ],
   "source": [
    "gamma_range=[0.0001,0.001,0.01,0.1,1,10,100]\n",
    "acc_score=[]\n",
    "for g in gamma_range:\n",
    "    svc = SVC(kernel='rbf', gamma=g,C=3)\n",
    "    scores = cross_val_score(svc, X, y, cv=5, scoring='accuracy')\n",
    "    acc_score.append(scores.mean())\n",
    "print(acc_score)   "
   ]
  },
  {
   "cell_type": "code",
   "execution_count": 38,
   "metadata": {},
   "outputs": [
    {
     "data": {
      "text/plain": [
       "Text(0, 0.5, 'Cross-Validated Accuracy')"
      ]
     },
     "execution_count": 38,
     "metadata": {},
     "output_type": "execute_result"
    },
    {
     "data": {
      "image/png": "[encoded data removed]",
      "text/plain": [
       "<Figure size 432x288 with 1 Axes>"
      ]
     },
     "metadata": {
      "needs_background": "light"
     },
     "output_type": "display_data"
    }
   ],
   "source": [
    "gamma_range=[0.0001,0.001,0.01,0.1,1,10,100]\n",
    "\n",
    "# plot the value of C for SVM (x-axis) versus the cross-validated accuracy (y-axis)\n",
    "plt.plot(gamma_range,acc_score)\n",
    "plt.xlabel('Value of gamma for SVC ')\n",
    "plt.xticks(np.arange(0.0001,100,5))\n",
    "plt.ylabel('Cross-Validated Accuracy')"
   ]
  },
  {
   "cell_type": "code",
   "execution_count": 39,
   "metadata": {
    "scrolled": true
   },
   "outputs": [
    {
     "name": "stdout",
     "output_type": "stream",
     "text": [
      "[0.816025641025641, 0.8428571428571429, 0.8447619047619048, 0.840952380952381, 0.8505311355311355, 0.8466300366300367, 0.8293223443223443, 0.8331868131868132, 0.8350915750915752, 0.8312271062271062, 0.83507326007326, 0.8312454212454213, 0.8293406593406594, 0.8236080586080586, 0.8235897435897435, 0.8235897435897435, 0.8197619047619048, 0.8178388278388278, 0.815915750915751, 0.8197619047619048, 0.8197619047619048, 0.8101282051282052, 0.812051282051282, 0.812051282051282, 0.812051282051282]\n"
     ]
    }
   ],
   "source": [
    "gamma_range=list(np.arange(0.0001,0.01,0.0004))\n",
    "acc_score=[]\n",
    "for g in gamma_range:\n",
    "    svc = SVC(kernel='rbf', gamma=g, C=1.5)\n",
    "    scores = cross_val_score(svc, X, y, cv=5, scoring='accuracy')\n",
    "    acc_score.append(scores.mean())\n",
    "print(acc_score) "
   ]
  },
  {
   "cell_type": "code",
   "execution_count": 40,
   "metadata": {},
   "outputs": [
    {
     "data": {
      "text/plain": [
       "Text(0, 0.5, 'Cross-Validated Accuracy')"
      ]
     },
     "execution_count": 40,
     "metadata": {},
     "output_type": "execute_result"
    },
    {
     "data": {
      "image/png": "[encoded data removed]",
      "text/plain": [
       "<Figure size 432x288 with 1 Axes>"
      ]
     },
     "metadata": {
      "needs_background": "light"
     },
     "output_type": "display_data"
    }
   ],
   "source": [
    "gamma_values=list(np.arange(0.0001,0.01,0.0004))\n",
    "# plot the value of gamma for SVM (x-axis) versus the cross-validated accuracy (y-axis)\n",
    "plt.plot(gamma_values,acc_score)\n",
    "plt.xticks(np.arange(0.0001,0.01,0.0004))\n",
    "plt.xlabel('Value of gamma for SVC ')\n",
    "plt.ylabel('Cross-Validated Accuracy')"
   ]
  },
  {
   "cell_type": "code",
   "execution_count": 41,
   "metadata": {},
   "outputs": [
    {
     "name": "stdout",
     "output_type": "stream",
     "text": [
      "[0.8484453286177425, 0.8503421699554847, 0.8485613623018203, 0.8504761904761905, 0.8483025928896017, 0.839021879021879, 0.840967365967366, 0.8385427169456208]\n"
     ]
    }
   ],
   "source": [
    "acc_score=[]\n",
    "for cvx in range(2,10):\n",
    "    svc = SVC(kernel='rbf', C=1.5,gamma=0.002)\n",
    "    scores = cross_val_score(svc,X, y, cv=cvx, scoring='accuracy')\n",
    "    acc_score.append(scores.mean())\n",
    "print(acc_score)"
   ]
  },
  {
   "cell_type": "code",
   "execution_count": 42,
   "metadata": {},
   "outputs": [],
   "source": [
    "from sklearn.svm import SVC\n",
    "from sklearn.decomposition import PCA\n",
    "from sklearn.preprocessing import StandardScaler\n",
    "from sklearn.pipeline import Pipeline\n",
    "from sklearn.model_selection import GridSearchCV\n",
    "from sklearn import metrics\n",
    "\n",
    "pipe_steps=[('scaler', StandardScaler()), ('SupVM',SVC(kernel='rbf'))]\n",
    "pipeline=Pipeline(pipe_steps)"
   ]
  },
  {
   "cell_type": "code",
   "execution_count": 43,
   "metadata": {},
   "outputs": [],
   "source": [
    "check_params={'SupVM__C':[2,2.5,3,3.5,4],'SupVM__gamma':[0.1,0.3,1,1.5,2]}"
   ]
  },
  {
   "cell_type": "code",
   "execution_count": 44,
   "metadata": {},
   "outputs": [
    {
     "data": {
      "text/plain": [
       "0.8982725527831094"
      ]
     },
     "execution_count": 44,
     "metadata": {},
     "output_type": "execute_result"
    }
   ],
   "source": [
    "model=GridSearchCV(pipeline,param_grid=check_params,cv=10,scoring='accuracy')\n",
    "model.fit(X,y)\n",
    "model.score(X,y)"
   ]
  },
  {
   "cell_type": "code",
   "execution_count": 45,
   "metadata": {},
   "outputs": [
    {
     "data": {
      "text/plain": [
       "{'SupVM__C': 2.5, 'SupVM__gamma': 0.1}"
      ]
     },
     "execution_count": 45,
     "metadata": {},
     "output_type": "execute_result"
    }
   ],
   "source": [
    "model.best_params_"
   ]
  },
  {
   "cell_type": "markdown",
   "metadata": {},
   "source": [
    "## KNN "
   ]
  },
  {
   "cell_type": "code",
   "execution_count": 46,
   "metadata": {},
   "outputs": [],
   "source": [
    "from sklearn.preprocessing import StandardScaler\n",
    "from sklearn.neighbors import (KNeighborsClassifier,\n",
    "                               NeighborhoodComponentsAnalysis)\n",
    "from sklearn.pipeline import Pipeline"
   ]
  },
  {
   "cell_type": "code",
   "execution_count": 47,
   "metadata": {},
   "outputs": [],
   "source": [
    "pipe_steps=[('scaler', StandardScaler()), ('knn',KNeighborsClassifier(n_neighbors=9))]\n",
    "pipe=Pipeline(pipe_steps)"
   ]
  },
  {
   "cell_type": "code",
   "execution_count": 48,
   "metadata": {},
   "outputs": [
    {
     "data": {
      "text/plain": [
       "0.8285714285714286"
      ]
     },
     "execution_count": 48,
     "metadata": {},
     "output_type": "execute_result"
    }
   ],
   "source": [
    "pipe.fit(X_train,y_train)\n",
    "pipe.score(X_test,y_test)"
   ]
  },
  {
   "cell_type": "code",
   "execution_count": 49,
   "metadata": {},
   "outputs": [
    {
     "data": {
      "text/plain": [
       "0.8380952380952381"
      ]
     },
     "execution_count": 49,
     "metadata": {},
     "output_type": "execute_result"
    }
   ],
   "source": [
    "\n",
    "pipe_steps=[('scaler', StandardScaler()),('nca', NeighborhoodComponentsAnalysis()),('knn',KNeighborsClassifier(n_neighbors=7))]\n",
    "pipe=Pipeline(pipe_steps)\n",
    "pipe.fit(X_train,y_train)\n",
    "pipe.score(X_test,y_test)"
   ]
  },
  {
   "cell_type": "code",
   "execution_count": 50,
   "metadata": {},
   "outputs": [
    {
     "data": {
      "text/plain": [
       "0.7922077922077922"
      ]
     },
     "execution_count": 50,
     "metadata": {},
     "output_type": "execute_result"
    }
   ],
   "source": [
    "pipe_steps=[('scaler', StandardScaler()), ('knn',KNeighborsClassifier(n_neighbors=9))]\n",
    "pipe=Pipeline(pipe_steps)\n",
    "\n",
    "pipe.fit(X1_train,y1_train)\n",
    "pipe.score(X1_test,y1_test)\n"
   ]
  },
  {
   "cell_type": "markdown",
   "metadata": {},
   "source": [
    "## DECISION TREE CLASSIFIER"
   ]
  },
  {
   "cell_type": "code",
   "execution_count": 51,
   "metadata": {},
   "outputs": [
    {
     "data": {
      "text/plain": [
       "0.780952380952381"
      ]
     },
     "execution_count": 51,
     "metadata": {},
     "output_type": "execute_result"
    }
   ],
   "source": [
    "from sklearn import tree\n",
    "from sklearn.model_selection import cross_val_score\n",
    "from sklearn.tree import DecisionTreeClassifier\n",
    "clf = tree.DecisionTreeClassifier(random_state=0,criterion='entropy')\n",
    "clf.fit(X_train,y_train)\n",
    "clf.score(X_test,y_test)\n",
    "#cross_val_score(clf, X, y, cv=10, scoring='f1').mean()"
   ]
  },
  {
   "cell_type": "code",
   "execution_count": 52,
   "metadata": {},
   "outputs": [
    {
     "data": {
      "text/plain": [
       "[Text(166.5133474576271, 209.07692307692307, 'X[1] <= 114.5\\nentropy = 0.999\\nsamples = 416\\nvalue = [199, 217]'),\n",
       " Text(66.32161016949152, 192.35076923076923, 'X[5] <= 26.35\\nentropy = 0.776\\nsamples = 214\\nvalue = [165, 49]'),\n",
       " Text(17.023728813559323, 175.62461538461537, 'X[6] <= 0.675\\nentropy = 0.116\\nsamples = 64\\nvalue = [63, 1]'),\n",
       " Text(11.349152542372881, 158.89846153846153, 'entropy = 0.0\\nsamples = 55\\nvalue = [55, 0]'),\n",
       " Text(22.698305084745762, 158.89846153846153, 'X[6] <= 0.711\\nentropy = 0.503\\nsamples = 9\\nvalue = [8, 1]'),\n",
       " Text(17.023728813559323, 142.1723076923077, 'entropy = 0.0\\nsamples = 1\\nvalue = [0, 1]'),\n",
       " Text(28.3728813559322, 142.1723076923077, 'entropy = 0.0\\nsamples = 8\\nvalue = [8, 0]'),\n",
       " Text(115.61949152542373, 175.62461538461537, 'X[1] <= 99.5\\nentropy = 0.904\\nsamples = 150\\nvalue = [102, 48]'),\n",
       " Text(62.42033898305085, 158.89846153846153, 'X[5] <= 37.3\\nentropy = 0.626\\nsamples = 83\\nvalue = [70, 13]'),\n",
       " Text(39.722033898305085, 142.1723076923077, 'X[6] <= 0.795\\nentropy = 0.444\\nsamples = 65\\nvalue = [59, 6]'),\n",
       " Text(28.3728813559322, 125.44615384615385, 'X[6] <= 0.38\\nentropy = 0.29\\nsamples = 59\\nvalue = [56, 3]'),\n",
       " Text(22.698305084745762, 108.72, 'X[1] <= 94.0\\nentropy = 0.491\\nsamples = 28\\nvalue = [25, 3]'),\n",
       " Text(11.349152542372881, 91.99384615384615, 'X[2] <= 51.0\\nentropy = 0.25\\nsamples = 24\\nvalue = [23, 1]'),\n",
       " Text(5.6745762711864405, 75.2676923076923, 'entropy = 0.0\\nsamples = 1\\nvalue = [0, 1]'),\n",
       " Text(17.023728813559323, 75.2676923076923, 'entropy = 0.0\\nsamples = 23\\nvalue = [23, 0]'),\n",
       " Text(34.047457627118646, 91.99384615384615, 'X[1] <= 97.5\\nentropy = 1.0\\nsamples = 4\\nvalue = [2, 2]'),\n",
       " Text(28.3728813559322, 75.2676923076923, 'entropy = 0.0\\nsamples = 2\\nvalue = [0, 2]'),\n",
       " Text(39.722033898305085, 75.2676923076923, 'entropy = 0.0\\nsamples = 2\\nvalue = [2, 0]'),\n",
       " Text(34.047457627118646, 108.72, 'entropy = 0.0\\nsamples = 31\\nvalue = [31, 0]'),\n",
       " Text(51.07118644067796, 125.44615384615385, 'X[0] <= 3.5\\nentropy = 1.0\\nsamples = 6\\nvalue = [3, 3]'),\n",
       " Text(45.396610169491524, 108.72, 'entropy = 0.0\\nsamples = 3\\nvalue = [3, 0]'),\n",
       " Text(56.7457627118644, 108.72, 'entropy = 0.0\\nsamples = 3\\nvalue = [0, 3]'),\n",
       " Text(85.11864406779661, 142.1723076923077, 'X[5] <= 41.15\\nentropy = 0.964\\nsamples = 18\\nvalue = [11, 7]'),\n",
       " Text(73.76949152542373, 125.44615384615385, 'X[3] <= 32.5\\nentropy = 0.918\\nsamples = 9\\nvalue = [3, 6]'),\n",
       " Text(68.09491525423729, 108.72, 'entropy = 0.0\\nsamples = 4\\nvalue = [0, 4]'),\n",
       " Text(79.44406779661017, 108.72, 'X[2] <= 70.0\\nentropy = 0.971\\nsamples = 5\\nvalue = [3, 2]'),\n",
       " Text(73.76949152542373, 91.99384615384615, 'entropy = 0.0\\nsamples = 2\\nvalue = [0, 2]'),\n",
       " Text(85.11864406779661, 91.99384615384615, 'entropy = 0.0\\nsamples = 3\\nvalue = [3, 0]'),\n",
       " Text(96.46779661016949, 125.44615384615385, 'X[5] <= 50.85\\nentropy = 0.503\\nsamples = 9\\nvalue = [8, 1]'),\n",
       " Text(90.79322033898305, 108.72, 'entropy = 0.0\\nsamples = 8\\nvalue = [8, 0]'),\n",
       " Text(102.14237288135593, 108.72, 'entropy = 0.0\\nsamples = 1\\nvalue = [0, 1]'),\n",
       " Text(168.8186440677966, 158.89846153846153, 'X[0] <= 6.5\\nentropy = 0.999\\nsamples = 67\\nvalue = [32, 35]'),\n",
       " Text(144.70169491525422, 142.1723076923077, 'X[6] <= 0.705\\nentropy = 0.925\\nsamples = 47\\nvalue = [31, 16]'),\n",
       " Text(124.8406779661017, 125.44615384615385, 'X[5] <= 33.05\\nentropy = 0.753\\nsamples = 37\\nvalue = [29, 8]'),\n",
       " Text(113.4915254237288, 108.72, 'X[5] <= 27.05\\nentropy = 0.286\\nsamples = 20\\nvalue = [19, 1]'),\n",
       " Text(107.81694915254236, 91.99384615384615, 'X[6] <= 0.212\\nentropy = 1.0\\nsamples = 2\\nvalue = [1, 1]'),\n",
       " Text(102.14237288135593, 75.2676923076923, 'entropy = 0.0\\nsamples = 1\\nvalue = [1, 0]'),\n",
       " Text(113.4915254237288, 75.2676923076923, 'entropy = 0.0\\nsamples = 1\\nvalue = [0, 1]'),\n",
       " Text(119.16610169491526, 91.99384615384615, 'entropy = 0.0\\nsamples = 18\\nvalue = [18, 0]'),\n",
       " Text(136.18983050847459, 108.72, 'X[4] <= 130.5\\nentropy = 0.977\\nsamples = 17\\nvalue = [10, 7]'),\n",
       " Text(130.51525423728813, 91.99384615384615, 'X[2] <= 88.0\\nentropy = 0.946\\nsamples = 11\\nvalue = [4, 7]'),\n",
       " Text(124.8406779661017, 75.2676923076923, 'X[4] <= 69.5\\nentropy = 0.764\\nsamples = 9\\nvalue = [2, 7]'),\n",
       " Text(119.16610169491526, 58.541538461538465, 'entropy = 0.0\\nsamples = 5\\nvalue = [0, 5]'),\n",
       " Text(130.51525423728813, 58.541538461538465, 'X[4] <= 112.5\\nentropy = 1.0\\nsamples = 4\\nvalue = [2, 2]'),\n",
       " Text(124.8406779661017, 41.81538461538463, 'entropy = 0.0\\nsamples = 2\\nvalue = [2, 0]'),\n",
       " Text(136.18983050847459, 41.81538461538463, 'entropy = 0.0\\nsamples = 2\\nvalue = [0, 2]'),\n",
       " Text(136.18983050847459, 75.2676923076923, 'entropy = 0.0\\nsamples = 2\\nvalue = [2, 0]'),\n",
       " Text(141.864406779661, 91.99384615384615, 'entropy = 0.0\\nsamples = 6\\nvalue = [6, 0]'),\n",
       " Text(164.56271186440677, 125.44615384615385, 'X[5] <= 31.75\\nentropy = 0.722\\nsamples = 10\\nvalue = [2, 8]'),\n",
       " Text(158.88813559322034, 108.72, 'X[6] <= 0.764\\nentropy = 1.0\\nsamples = 4\\nvalue = [2, 2]'),\n",
       " Text(153.2135593220339, 91.99384615384615, 'entropy = 0.0\\nsamples = 2\\nvalue = [0, 2]'),\n",
       " Text(164.56271186440677, 91.99384615384615, 'entropy = 0.0\\nsamples = 2\\nvalue = [2, 0]'),\n",
       " Text(170.23728813559322, 108.72, 'entropy = 0.0\\nsamples = 6\\nvalue = [0, 6]'),\n",
       " Text(192.93559322033897, 142.1723076923077, 'X[6] <= 0.252\\nentropy = 0.286\\nsamples = 20\\nvalue = [1, 19]'),\n",
       " Text(187.26101694915255, 125.44615384615385, 'X[6] <= 0.245\\nentropy = 0.918\\nsamples = 3\\nvalue = [1, 2]'),\n",
       " Text(181.5864406779661, 108.72, 'entropy = 0.0\\nsamples = 2\\nvalue = [0, 2]'),\n",
       " Text(192.93559322033897, 108.72, 'entropy = 0.0\\nsamples = 1\\nvalue = [1, 0]'),\n",
       " Text(198.61016949152543, 125.44615384615385, 'entropy = 0.0\\nsamples = 17\\nvalue = [0, 17]'),\n",
       " Text(266.7050847457627, 192.35076923076923, 'X[5] <= 28.8\\nentropy = 0.654\\nsamples = 202\\nvalue = [34, 168]'),\n",
       " Text(226.9830508474576, 175.62461538461537, 'X[1] <= 166.5\\nentropy = 0.996\\nsamples = 39\\nvalue = [21, 18]'),\n",
       " Text(221.30847457627118, 158.89846153846153, 'X[0] <= 1.5\\nentropy = 0.946\\nsamples = 33\\nvalue = [21, 12]'),\n",
       " Text(215.63389830508473, 142.1723076923077, 'entropy = 0.0\\nsamples = 9\\nvalue = [9, 0]'),\n",
       " Text(226.9830508474576, 142.1723076923077, 'X[1] <= 122.5\\nentropy = 1.0\\nsamples = 24\\nvalue = [12, 12]'),\n",
       " Text(209.9593220338983, 125.44615384615385, 'X[5] <= 27.35\\nentropy = 0.592\\nsamples = 7\\nvalue = [6, 1]'),\n",
       " Text(204.28474576271185, 108.72, 'entropy = 0.0\\nsamples = 5\\nvalue = [5, 0]'),\n",
       " Text(215.63389830508473, 108.72, 'X[0] <= 7.0\\nentropy = 1.0\\nsamples = 2\\nvalue = [1, 1]'),\n",
       " Text(209.9593220338983, 91.99384615384615, 'entropy = 0.0\\nsamples = 1\\nvalue = [1, 0]'),\n",
       " Text(221.30847457627118, 91.99384615384615, 'entropy = 0.0\\nsamples = 1\\nvalue = [0, 1]'),\n",
       " Text(244.00677966101694, 125.44615384615385, 'X[4] <= 203.0\\nentropy = 0.937\\nsamples = 17\\nvalue = [6, 11]'),\n",
       " Text(238.3322033898305, 108.72, 'X[2] <= 73.0\\nentropy = 0.837\\nsamples = 15\\nvalue = [4, 11]'),\n",
       " Text(232.65762711864406, 91.99384615384615, 'entropy = 0.0\\nsamples = 6\\nvalue = [0, 6]'),\n",
       " Text(244.00677966101694, 91.99384615384615, 'X[2] <= 77.0\\nentropy = 0.991\\nsamples = 9\\nvalue = [4, 5]'),\n",
       " Text(232.65762711864406, 75.2676923076923, 'X[0] <= 2.5\\nentropy = 0.811\\nsamples = 4\\nvalue = [3, 1]'),\n",
       " Text(226.9830508474576, 58.541538461538465, 'entropy = 0.0\\nsamples = 1\\nvalue = [0, 1]'),\n",
       " Text(238.3322033898305, 58.541538461538465, 'entropy = 0.0\\nsamples = 3\\nvalue = [3, 0]'),\n",
       " Text(255.3559322033898, 75.2676923076923, 'X[0] <= 6.0\\nentropy = 0.722\\nsamples = 5\\nvalue = [1, 4]'),\n",
       " Text(249.6813559322034, 58.541538461538465, 'X[2] <= 82.0\\nentropy = 1.0\\nsamples = 2\\nvalue = [1, 1]'),\n",
       " Text(244.00677966101694, 41.81538461538463, 'entropy = 0.0\\nsamples = 1\\nvalue = [0, 1]'),\n",
       " Text(255.3559322033898, 41.81538461538463, 'entropy = 0.0\\nsamples = 1\\nvalue = [1, 0]'),\n",
       " Text(261.03050847457627, 58.541538461538465, 'entropy = 0.0\\nsamples = 3\\nvalue = [0, 3]'),\n",
       " Text(249.6813559322034, 108.72, 'entropy = 0.0\\nsamples = 2\\nvalue = [2, 0]'),\n",
       " Text(232.65762711864406, 158.89846153846153, 'entropy = 0.0\\nsamples = 6\\nvalue = [0, 6]'),\n",
       " Text(306.4271186440678, 175.62461538461537, 'X[1] <= 141.5\\nentropy = 0.401\\nsamples = 163\\nvalue = [13, 150]'),\n",
       " Text(289.40338983050844, 158.89846153846153, 'X[3] <= 5.5\\nentropy = 0.667\\nsamples = 69\\nvalue = [12, 57]'),\n",
       " Text(283.728813559322, 142.1723076923077, 'entropy = 0.0\\nsamples = 23\\nvalue = [0, 23]'),\n",
       " Text(295.0779661016949, 142.1723076923077, 'X[6] <= 0.806\\nentropy = 0.828\\nsamples = 46\\nvalue = [12, 34]'),\n",
       " Text(289.40338983050844, 125.44615384615385, 'X[0] <= 8.5\\nentropy = 0.918\\nsamples = 36\\nvalue = [12, 24]'),\n",
       " Text(283.728813559322, 108.72, 'X[3] <= 41.5\\nentropy = 0.963\\nsamples = 31\\nvalue = [12, 19]'),\n",
       " Text(278.0542372881356, 91.99384615384615, 'X[1] <= 116.5\\nentropy = 0.991\\nsamples = 27\\nvalue = [12, 15]'),\n",
       " Text(272.37966101694917, 75.2676923076923, 'entropy = 0.0\\nsamples = 3\\nvalue = [0, 3]'),\n",
       " Text(283.728813559322, 75.2676923076923, 'X[1] <= 130.0\\nentropy = 1.0\\nsamples = 24\\nvalue = [12, 12]'),\n",
       " Text(272.37966101694917, 58.541538461538465, 'X[5] <= 32.8\\nentropy = 0.918\\nsamples = 15\\nvalue = [10, 5]'),\n",
       " Text(266.7050847457627, 41.81538461538463, 'entropy = 0.0\\nsamples = 2\\nvalue = [0, 2]'),\n",
       " Text(278.0542372881356, 41.81538461538463, 'X[4] <= 140.0\\nentropy = 0.779\\nsamples = 13\\nvalue = [10, 3]'),\n",
       " Text(272.37966101694917, 25.089230769230767, 'entropy = 0.0\\nsamples = 7\\nvalue = [7, 0]'),\n",
       " Text(283.728813559322, 25.089230769230767, 'X[1] <= 124.5\\nentropy = 1.0\\nsamples = 6\\nvalue = [3, 3]'),\n",
       " Text(278.0542372881356, 8.363076923076932, 'entropy = 0.0\\nsamples = 3\\nvalue = [0, 3]'),\n",
       " Text(289.40338983050844, 8.363076923076932, 'entropy = 0.0\\nsamples = 3\\nvalue = [3, 0]'),\n",
       " Text(295.0779661016949, 58.541538461538465, 'X[2] <= 82.0\\nentropy = 0.764\\nsamples = 9\\nvalue = [2, 7]'),\n",
       " Text(289.40338983050844, 41.81538461538463, 'entropy = 0.0\\nsamples = 6\\nvalue = [0, 6]'),\n",
       " Text(300.75254237288135, 41.81538461538463, 'X[5] <= 32.6\\nentropy = 0.918\\nsamples = 3\\nvalue = [2, 1]'),\n",
       " Text(295.0779661016949, 25.089230769230767, 'entropy = 0.0\\nsamples = 2\\nvalue = [2, 0]'),\n",
       " Text(306.4271186440678, 25.089230769230767, 'entropy = 0.0\\nsamples = 1\\nvalue = [0, 1]'),\n",
       " Text(289.40338983050844, 91.99384615384615, 'entropy = 0.0\\nsamples = 4\\nvalue = [0, 4]'),\n",
       " Text(295.0779661016949, 108.72, 'entropy = 0.0\\nsamples = 5\\nvalue = [0, 5]'),\n",
       " Text(300.75254237288135, 125.44615384615385, 'entropy = 0.0\\nsamples = 10\\nvalue = [0, 10]'),\n",
       " Text(323.4508474576271, 158.89846153846153, 'X[5] <= 29.85\\nentropy = 0.085\\nsamples = 94\\nvalue = [1, 93]'),\n",
       " Text(317.7762711864407, 142.1723076923077, 'X[4] <= 84.0\\nentropy = 1.0\\nsamples = 2\\nvalue = [1, 1]'),\n",
       " Text(312.1016949152542, 125.44615384615385, 'entropy = 0.0\\nsamples = 1\\nvalue = [1, 0]'),\n",
       " Text(323.4508474576271, 125.44615384615385, 'entropy = 0.0\\nsamples = 1\\nvalue = [0, 1]'),\n",
       " Text(329.12542372881353, 142.1723076923077, 'entropy = 0.0\\nsamples = 92\\nvalue = [0, 92]')]"
      ]
     },
     "execution_count": 52,
     "metadata": {},
     "output_type": "execute_result"
    },
    {
     "data": {
      "image/png": "[encoded data removed]",
      "text/plain": [
       "<Figure size 432x288 with 1 Axes>"
      ]
     },
     "metadata": {
      "needs_background": "light"
     },
     "output_type": "display_data"
    }
   ],
   "source": [
    "tree.plot_tree(clf)"
   ]
  },
  {
   "cell_type": "code",
   "execution_count": 53,
   "metadata": {},
   "outputs": [
    {
     "data": {
      "text/plain": [
       "0.6428571428571429"
      ]
     },
     "execution_count": 53,
     "metadata": {},
     "output_type": "execute_result"
    }
   ],
   "source": [
    "from sklearn import tree\n",
    "from sklearn.model_selection import cross_val_score\n",
    "from sklearn.tree import DecisionTreeClassifier\n",
    "clf1 = tree.DecisionTreeClassifier(random_state=0,criterion='entropy')\n",
    "clf1.fit(X1_train,y1_train)\n",
    "clf1.score(X1_test,y1_test)"
   ]
  },
  {
   "cell_type": "markdown",
   "metadata": {},
   "source": [
    "## RANDOM FOREST CLASSIFIER"
   ]
  },
  {
   "cell_type": "code",
   "execution_count": 54,
   "metadata": {},
   "outputs": [
    {
     "data": {
      "text/plain": [
       "0.8380952380952381"
      ]
     },
     "execution_count": 54,
     "metadata": {},
     "output_type": "execute_result"
    }
   ],
   "source": [
    "from sklearn.ensemble import RandomForestClassifier\n",
    "rf=RandomForestClassifier(random_state=0)\n",
    "rf.fit(X_train,y_train)\n",
    "rf.score(X_test,y_test)"
   ]
  },
  {
   "cell_type": "code",
   "execution_count": 55,
   "metadata": {},
   "outputs": [
    {
     "data": {
      "text/plain": [
       "0.7792207792207793"
      ]
     },
     "execution_count": 55,
     "metadata": {},
     "output_type": "execute_result"
    }
   ],
   "source": [
    "from sklearn.ensemble import RandomForestClassifier\n",
    "rf=RandomForestClassifier(random_state=0)\n",
    "rf.fit(X1_train,y1_train)\n",
    "rf.score(X1_test,y1_test)"
   ]
  },
  {
   "cell_type": "code",
   "execution_count": 56,
   "metadata": {},
   "outputs": [
    {
     "data": {
      "text/plain": [
       "0.8448838896952104"
      ]
     },
     "execution_count": 56,
     "metadata": {},
     "output_type": "execute_result"
    }
   ],
   "source": [
    "cross_val_score(rf, X, y, cv=10).mean()"
   ]
  },
  {
   "cell_type": "code",
   "execution_count": 57,
   "metadata": {},
   "outputs": [
    {
     "name": "stdout",
     "output_type": "stream",
     "text": [
      "{'max_depth': [1, 23, 45],\n",
      " 'max_features': ['auto', 'sqrt'],\n",
      " 'min_samples_split': [5, 10],\n",
      " 'n_estimators': [20, 65, 110, 155, 200]}\n"
     ]
    }
   ],
   "source": [
    "from sklearn.model_selection import RandomizedSearchCV\n",
    "from pprint import pprint\n",
    "\n",
    "# Number of trees in random forest\n",
    "n_estimators = [int(x) for x in np.linspace(start = 20, stop = 200, num = 5)]\n",
    "# Number of features to consider at every split\n",
    "max_features = ['auto', 'sqrt']\n",
    "# Maximum number of levels in tree\n",
    "max_depth = [int(x) for x in np.linspace(1, 45, num = 3)]\n",
    "# Minimum number of samples required to split a node\n",
    "min_samples_split = [5, 10]\n",
    "\n",
    "\n",
    "\n",
    "# Create the random grid\n",
    "random_grid = {'n_estimators': n_estimators,\n",
    "               'max_features': max_features,\n",
    "               'max_depth': max_depth,\n",
    "               'min_samples_split': min_samples_split}\n",
    "\n",
    "pprint(random_grid)"
   ]
  },
  {
   "cell_type": "code",
   "execution_count": 58,
   "metadata": {},
   "outputs": [
    {
     "name": "stdout",
     "output_type": "stream",
     "text": [
      "Start Fitting Training Data\n"
     ]
    },
    {
     "data": {
      "application/vnd.jupyter.widget-view+json": {
       "model_id": "cb8d972a9743472a891f1efa401ee321",
       "version_major": 2,
       "version_minor": 0
      },
      "text/plain": [
       "HBox(children=(FloatProgress(value=0.0, max=6.0), HTML(value='')))"
      ]
     },
     "metadata": {},
     "output_type": "display_data"
    },
    {
     "name": "stdout",
     "output_type": "stream",
     "text": [
      "Fitting 5 folds for each of 10 candidates, totalling 50 fits\n"
     ]
    },
    {
     "name": "stderr",
     "output_type": "stream",
     "text": [
      "[Parallel(n_jobs=-1)]: Using backend LokyBackend with 4 concurrent workers.\n",
      "[Parallel(n_jobs=-1)]: Done  33 tasks      | elapsed:    9.6s\n",
      "[Parallel(n_jobs=-1)]: Done  50 out of  50 | elapsed:   12.0s finished\n"
     ]
    },
    {
     "name": "stdout",
     "output_type": "stream",
     "text": [
      "Score for 5 fold CV = 0.99\n",
      "!!!!!!!! Best-Fit Parameters From Training Data !!!!!!!!!!!!!!\n",
      "{'n_estimators': 155, 'min_samples_split': 5, 'max_features': 'sqrt', 'max_depth': 23}\n",
      " \n",
      " \n",
      "Fitting 6 folds for each of 10 candidates, totalling 60 fits\n"
     ]
    },
    {
     "name": "stderr",
     "output_type": "stream",
     "text": [
      "[Parallel(n_jobs=-1)]: Using backend LokyBackend with 4 concurrent workers.\n",
      "[Parallel(n_jobs=-1)]: Done  60 out of  60 | elapsed:    7.7s finished\n"
     ]
    },
    {
     "name": "stdout",
     "output_type": "stream",
     "text": [
      "Score for 6 fold CV = 0.96\n",
      "!!!!!!!! Best-Fit Parameters From Training Data !!!!!!!!!!!!!!\n",
      "{'n_estimators': 65, 'min_samples_split': 10, 'max_features': 'sqrt', 'max_depth': 23}\n",
      " \n",
      " \n",
      "Fitting 7 folds for each of 10 candidates, totalling 70 fits\n"
     ]
    },
    {
     "name": "stderr",
     "output_type": "stream",
     "text": [
      "[Parallel(n_jobs=-1)]: Using backend LokyBackend with 4 concurrent workers.\n",
      "[Parallel(n_jobs=-1)]: Done  55 tasks      | elapsed:    9.4s\n",
      "[Parallel(n_jobs=-1)]: Done  70 out of  70 | elapsed:   11.9s finished\n",
      "[Parallel(n_jobs=-1)]: Using backend LokyBackend with 4 concurrent workers.\n"
     ]
    },
    {
     "name": "stdout",
     "output_type": "stream",
     "text": [
      "Score for 7 fold CV = 0.95\n",
      "!!!!!!!! Best-Fit Parameters From Training Data !!!!!!!!!!!!!!\n",
      "{'n_estimators': 20, 'min_samples_split': 10, 'max_features': 'auto', 'max_depth': 45}\n",
      " \n",
      " \n",
      "Fitting 8 folds for each of 10 candidates, totalling 80 fits\n"
     ]
    },
    {
     "name": "stderr",
     "output_type": "stream",
     "text": [
      "[Parallel(n_jobs=-1)]: Done  57 tasks      | elapsed:    8.9s\n",
      "[Parallel(n_jobs=-1)]: Done  80 out of  80 | elapsed:   12.8s finished\n",
      "[Parallel(n_jobs=-1)]: Using backend LokyBackend with 4 concurrent workers.\n"
     ]
    },
    {
     "name": "stdout",
     "output_type": "stream",
     "text": [
      "Score for 8 fold CV = 0.95\n",
      "!!!!!!!! Best-Fit Parameters From Training Data !!!!!!!!!!!!!!\n",
      "{'n_estimators': 20, 'min_samples_split': 10, 'max_features': 'auto', 'max_depth': 45}\n",
      " \n",
      " \n",
      "Fitting 9 folds for each of 10 candidates, totalling 90 fits\n"
     ]
    },
    {
     "name": "stderr",
     "output_type": "stream",
     "text": [
      "[Parallel(n_jobs=-1)]: Done  58 tasks      | elapsed:    7.5s\n",
      "[Parallel(n_jobs=-1)]: Done  90 out of  90 | elapsed:   13.9s finished\n"
     ]
    },
    {
     "name": "stdout",
     "output_type": "stream",
     "text": [
      "Score for 9 fold CV = 0.96\n",
      "!!!!!!!! Best-Fit Parameters From Training Data !!!!!!!!!!!!!!\n",
      "{'n_estimators': 155, 'min_samples_split': 10, 'max_features': 'auto', 'max_depth': 45}\n",
      " \n",
      " \n",
      "Fitting 10 folds for each of 10 candidates, totalling 100 fits\n"
     ]
    },
    {
     "name": "stderr",
     "output_type": "stream",
     "text": [
      "[Parallel(n_jobs=-1)]: Using backend LokyBackend with 4 concurrent workers.\n",
      "[Parallel(n_jobs=-1)]: Done  58 tasks      | elapsed:    6.4s\n",
      "[Parallel(n_jobs=-1)]: Done 100 out of 100 | elapsed:   13.8s finished\n"
     ]
    },
    {
     "name": "stdout",
     "output_type": "stream",
     "text": [
      "Score for 10 fold CV = 0.96\n",
      "!!!!!!!! Best-Fit Parameters From Training Data !!!!!!!!!!!!!!\n",
      "{'n_estimators': 65, 'min_samples_split': 10, 'max_features': 'sqrt', 'max_depth': 23}\n",
      " \n",
      " \n",
      "\n",
      "Out of Loop\n"
     ]
    }
   ],
   "source": [
    "#from sklearn.pipeline import Pipeline\n",
    "\n",
    "#pipeline = Pipeline(pipe_steps)\n",
    "# I love You So Much \n",
    "from tqdm import tqdm_notebook as tqdm\n",
    "from sklearn.model_selection import RandomizedSearchCV\n",
    "import warnings\n",
    "warnings.filterwarnings(\"ignore\")\n",
    "rf=RandomForestClassifier(random_state=0)\n",
    "print(\"Start Fitting Training Data\")\n",
    "for cvx in tqdm(range(5,11)):\n",
    "    rf_random = RandomizedSearchCV(estimator = rf, param_distributions = random_grid, n_iter = 10, cv = cvx, verbose=2, random_state=42, n_jobs = -1, scoring='accuracy')\n",
    "   \n",
    "    rf_random.fit(X,y)\n",
    "    \n",
    "    print(\"Score for %d fold CV = %3.2f\"%(cvx,rf_random.score(X,y)))\n",
    "    print (\"!!!!!!!! Best-Fit Parameters From Training Data !!!!!!!!!!!!!!\")\n",
    "    print (rf_random.best_params_)\n",
    "    print(\" \")\n",
    "    print(\" \")\n",
    "    \n",
    "print(\"Out of Loop\")\n",
    "\n",
    "\n"
   ]
  },
  {
   "cell_type": "code",
   "execution_count": 59,
   "metadata": {},
   "outputs": [
    {
     "name": "stdout",
     "output_type": "stream",
     "text": [
      "{'bootstrap': [True, False],\n",
      " 'criterion': ['gini', 'entropy'],\n",
      " 'max_depth': [10, 20, 30, 40, 50, 60, 70, 80, 90, 100, 110],\n",
      " 'max_features': ['auto', 'sqrt'],\n",
      " 'min_samples_leaf': [1, 2, 4],\n",
      " 'min_samples_split': [2, 5, 10],\n",
      " 'n_estimators': [100, 311, 522, 733, 944, 1155, 1366, 1577, 1788, 2000]}\n"
     ]
    }
   ],
   "source": [
    "n_estimators = [int(x) for x in np.linspace(start = 100, stop = 2000, num = 10)]\n",
    "# Number of features to consider at every split\n",
    "max_features = ['auto', 'sqrt']\n",
    "# Maximum number of levels in tree\n",
    "max_depth = [int(x) for x in np.linspace(10, 110, num = 11)]\n",
    "#max_depth.append(None)\n",
    "# Minimum number of samples required to split a node\n",
    "min_samples_split = [2, 5, 10]\n",
    "# Minimum number of samples required at each leaf node\n",
    "min_samples_leaf = [1, 2, 4]\n",
    "# Method of selecting samples for training each tree\n",
    "bootstrap = [True, False]\n",
    "criterion=['gini','entropy']\n",
    "\n",
    "random_grid = {'n_estimators': n_estimators,\n",
    "               'max_features': max_features,\n",
    "               'max_depth': max_depth,\n",
    "               'min_samples_split': min_samples_split,\n",
    "               'min_samples_leaf': min_samples_leaf,\n",
    "               'criterion':criterion, \n",
    "               'bootstrap': bootstrap}\n",
    "\n",
    "pprint(random_grid)"
   ]
  },
  {
   "cell_type": "code",
   "execution_count": 60,
   "metadata": {},
   "outputs": [
    {
     "name": "stdout",
     "output_type": "stream",
     "text": [
      "Start Fitting Training Data\n"
     ]
    },
    {
     "data": {
      "application/vnd.jupyter.widget-view+json": {
       "model_id": "f2bf7e8cd199447a84e4a6897bde2489",
       "version_major": 2,
       "version_minor": 0
      },
      "text/plain": [
       "HBox(children=(FloatProgress(value=0.0, max=6.0), HTML(value='')))"
      ]
     },
     "metadata": {},
     "output_type": "display_data"
    },
    {
     "name": "stdout",
     "output_type": "stream",
     "text": [
      "Fitting 5 folds for each of 10 candidates, totalling 50 fits\n"
     ]
    },
    {
     "name": "stderr",
     "output_type": "stream",
     "text": [
      "[Parallel(n_jobs=-1)]: Using backend LokyBackend with 4 concurrent workers.\n",
      "[Parallel(n_jobs=-1)]: Done  33 tasks      | elapsed:   21.5s\n",
      "[Parallel(n_jobs=-1)]: Done  50 out of  50 | elapsed:   39.4s finished\n"
     ]
    },
    {
     "name": "stdout",
     "output_type": "stream",
     "text": [
      "Score for 5 fold CV = 0.95\n",
      "!!!!!!!! Best-Fit Parameters From Training Data !!!!!!!!!!!!!!\n",
      "{'n_estimators': 522, 'min_samples_split': 10, 'min_samples_leaf': 4, 'max_features': 'sqrt', 'max_depth': 100, 'criterion': 'entropy', 'bootstrap': True}\n",
      " \n",
      " \n",
      "Fitting 6 folds for each of 10 candidates, totalling 60 fits\n"
     ]
    },
    {
     "name": "stderr",
     "output_type": "stream",
     "text": [
      "[Parallel(n_jobs=-1)]: Using backend LokyBackend with 4 concurrent workers.\n",
      "[Parallel(n_jobs=-1)]: Done  33 tasks      | elapsed:   17.9s\n",
      "[Parallel(n_jobs=-1)]: Done  60 out of  60 | elapsed:   42.0s finished\n"
     ]
    },
    {
     "name": "stdout",
     "output_type": "stream",
     "text": [
      "Score for 6 fold CV = 0.95\n",
      "!!!!!!!! Best-Fit Parameters From Training Data !!!!!!!!!!!!!!\n",
      "{'n_estimators': 100, 'min_samples_split': 10, 'min_samples_leaf': 2, 'max_features': 'sqrt', 'max_depth': 50, 'criterion': 'gini', 'bootstrap': True}\n",
      " \n",
      " \n",
      "Fitting 7 folds for each of 10 candidates, totalling 70 fits\n"
     ]
    },
    {
     "name": "stderr",
     "output_type": "stream",
     "text": [
      "[Parallel(n_jobs=-1)]: Using backend LokyBackend with 4 concurrent workers.\n",
      "[Parallel(n_jobs=-1)]: Done  33 tasks      | elapsed:   17.3s\n",
      "[Parallel(n_jobs=-1)]: Done  70 out of  70 | elapsed:   49.6s finished\n"
     ]
    },
    {
     "name": "stdout",
     "output_type": "stream",
     "text": [
      "Score for 7 fold CV = 0.95\n",
      "!!!!!!!! Best-Fit Parameters From Training Data !!!!!!!!!!!!!!\n",
      "{'n_estimators': 100, 'min_samples_split': 10, 'min_samples_leaf': 2, 'max_features': 'sqrt', 'max_depth': 50, 'criterion': 'gini', 'bootstrap': True}\n",
      " \n",
      " \n",
      "Fitting 8 folds for each of 10 candidates, totalling 80 fits\n"
     ]
    },
    {
     "name": "stderr",
     "output_type": "stream",
     "text": [
      "[Parallel(n_jobs=-1)]: Using backend LokyBackend with 4 concurrent workers.\n",
      "[Parallel(n_jobs=-1)]: Done  33 tasks      | elapsed:   16.2s\n",
      "[Parallel(n_jobs=-1)]: Done  80 out of  80 | elapsed:   54.7s finished\n"
     ]
    },
    {
     "name": "stdout",
     "output_type": "stream",
     "text": [
      "Score for 8 fold CV = 0.95\n",
      "!!!!!!!! Best-Fit Parameters From Training Data !!!!!!!!!!!!!!\n",
      "{'n_estimators': 522, 'min_samples_split': 10, 'min_samples_leaf': 4, 'max_features': 'sqrt', 'max_depth': 100, 'criterion': 'entropy', 'bootstrap': True}\n",
      " \n",
      " \n",
      "Fitting 9 folds for each of 10 candidates, totalling 90 fits\n"
     ]
    },
    {
     "name": "stderr",
     "output_type": "stream",
     "text": [
      "[Parallel(n_jobs=-1)]: Using backend LokyBackend with 4 concurrent workers.\n",
      "[Parallel(n_jobs=-1)]: Done  33 tasks      | elapsed:   11.3s\n",
      "[Parallel(n_jobs=-1)]: Done  90 out of  90 | elapsed:  1.1min finished\n"
     ]
    },
    {
     "name": "stdout",
     "output_type": "stream",
     "text": [
      "Score for 9 fold CV = 0.95\n",
      "!!!!!!!! Best-Fit Parameters From Training Data !!!!!!!!!!!!!!\n",
      "{'n_estimators': 522, 'min_samples_split': 10, 'min_samples_leaf': 4, 'max_features': 'sqrt', 'max_depth': 100, 'criterion': 'entropy', 'bootstrap': True}\n",
      " \n",
      " \n",
      "Fitting 10 folds for each of 10 candidates, totalling 100 fits\n"
     ]
    },
    {
     "name": "stderr",
     "output_type": "stream",
     "text": [
      "[Parallel(n_jobs=-1)]: Using backend LokyBackend with 4 concurrent workers.\n",
      "[Parallel(n_jobs=-1)]: Done  33 tasks      | elapsed:   12.5s\n",
      "[Parallel(n_jobs=-1)]: Done 100 out of 100 | elapsed:  1.2min finished\n"
     ]
    },
    {
     "name": "stdout",
     "output_type": "stream",
     "text": [
      "Score for 10 fold CV = 0.99\n",
      "!!!!!!!! Best-Fit Parameters From Training Data !!!!!!!!!!!!!!\n",
      "{'n_estimators': 522, 'min_samples_split': 2, 'min_samples_leaf': 2, 'max_features': 'auto', 'max_depth': 70, 'criterion': 'entropy', 'bootstrap': True}\n",
      " \n",
      " \n",
      "\n",
      "Out of Loop\n"
     ]
    }
   ],
   "source": [
    "from tqdm import tqdm_notebook as tqdm\n",
    "from sklearn.model_selection import RandomizedSearchCV\n",
    "import warnings\n",
    "warnings.filterwarnings(\"ignore\")\n",
    "rf=RandomForestClassifier(random_state=0)\n",
    "print(\"Start Fitting Training Data\")\n",
    "for cvx in tqdm(range(5,11)):\n",
    "    rf_random = RandomizedSearchCV(estimator = rf, param_distributions = random_grid, n_iter = 10, cv = cvx, verbose=2, random_state=42, n_jobs = -1, scoring='accuracy')\n",
    "   \n",
    "    rf_random.fit(X,y)\n",
    "    \n",
    "    print(\"Score for %d fold CV = %3.2f\"%(cvx,rf_random.score(X,y)))\n",
    "    print (\"!!!!!!!! Best-Fit Parameters From Training Data !!!!!!!!!!!!!!\")\n",
    "    print (rf_random.best_params_)\n",
    "    print(\" \")\n",
    "    print(\" \")\n",
    "    \n",
    "print(\"Out of Loop\")\n"
   ]
  },
  {
   "cell_type": "code",
   "execution_count": 61,
   "metadata": {},
   "outputs": [
    {
     "name": "stdout",
     "output_type": "stream",
     "text": [
      "Start Fitting Training Data\n"
     ]
    },
    {
     "data": {
      "application/vnd.jupyter.widget-view+json": {
       "model_id": "55620d94461b4af2813cb33278e9fc74",
       "version_major": 2,
       "version_minor": 0
      },
      "text/plain": [
       "HBox(children=(FloatProgress(value=0.0, max=6.0), HTML(value='')))"
      ]
     },
     "metadata": {},
     "output_type": "display_data"
    },
    {
     "name": "stdout",
     "output_type": "stream",
     "text": [
      "Fitting 5 folds for each of 10 candidates, totalling 50 fits\n"
     ]
    },
    {
     "name": "stderr",
     "output_type": "stream",
     "text": [
      "[Parallel(n_jobs=-1)]: Using backend LokyBackend with 4 concurrent workers.\n",
      "[Parallel(n_jobs=-1)]: Done  33 tasks      | elapsed:   26.7s\n",
      "[Parallel(n_jobs=-1)]: Done  50 out of  50 | elapsed:   51.2s finished\n"
     ]
    },
    {
     "name": "stdout",
     "output_type": "stream",
     "text": [
      "Score for 5 fold CV = 0.95\n",
      "!!!!!!!! Best-Fit Parameters From Training Data !!!!!!!!!!!!!!\n",
      "{'bootstrap': True,\n",
      " 'max_depth': 50,\n",
      " 'max_features': 'sqrt',\n",
      " 'min_samples_leaf': 2,\n",
      " 'min_samples_split': 10,\n",
      " 'n_estimators': 100}\n",
      " \n",
      " \n",
      "Fitting 6 folds for each of 10 candidates, totalling 60 fits\n"
     ]
    },
    {
     "name": "stderr",
     "output_type": "stream",
     "text": [
      "[Parallel(n_jobs=-1)]: Using backend LokyBackend with 4 concurrent workers.\n",
      "[Parallel(n_jobs=-1)]: Done  33 tasks      | elapsed:   28.6s\n",
      "[Parallel(n_jobs=-1)]: Done  60 out of  60 | elapsed:  1.0min finished\n"
     ]
    },
    {
     "name": "stdout",
     "output_type": "stream",
     "text": [
      "Score for 6 fold CV = 0.95\n",
      "!!!!!!!! Best-Fit Parameters From Training Data !!!!!!!!!!!!!!\n",
      "{'bootstrap': True,\n",
      " 'max_depth': 50,\n",
      " 'max_features': 'sqrt',\n",
      " 'min_samples_leaf': 2,\n",
      " 'min_samples_split': 10,\n",
      " 'n_estimators': 100}\n",
      " \n",
      " \n",
      "Fitting 7 folds for each of 10 candidates, totalling 70 fits\n"
     ]
    },
    {
     "name": "stderr",
     "output_type": "stream",
     "text": [
      "[Parallel(n_jobs=-1)]: Using backend LokyBackend with 4 concurrent workers.\n",
      "[Parallel(n_jobs=-1)]: Done  33 tasks      | elapsed:   25.2s\n",
      "[Parallel(n_jobs=-1)]: Done  70 out of  70 | elapsed:  1.2min finished\n"
     ]
    },
    {
     "name": "stdout",
     "output_type": "stream",
     "text": [
      "Score for 7 fold CV = 0.98\n",
      "!!!!!!!! Best-Fit Parameters From Training Data !!!!!!!!!!!!!!\n",
      "{'bootstrap': True,\n",
      " 'max_depth': 80,\n",
      " 'max_features': 'auto',\n",
      " 'min_samples_leaf': 2,\n",
      " 'min_samples_split': 2,\n",
      " 'n_estimators': 944}\n",
      " \n",
      " \n",
      "Fitting 8 folds for each of 10 candidates, totalling 80 fits\n"
     ]
    },
    {
     "name": "stderr",
     "output_type": "stream",
     "text": [
      "[Parallel(n_jobs=-1)]: Using backend LokyBackend with 4 concurrent workers.\n",
      "[Parallel(n_jobs=-1)]: Done  33 tasks      | elapsed:   30.2s\n",
      "[Parallel(n_jobs=-1)]: Done  80 out of  80 | elapsed:  1.4min finished\n"
     ]
    },
    {
     "name": "stdout",
     "output_type": "stream",
     "text": [
      "Score for 8 fold CV = 0.98\n",
      "!!!!!!!! Best-Fit Parameters From Training Data !!!!!!!!!!!!!!\n",
      "{'bootstrap': True,\n",
      " 'max_depth': 80,\n",
      " 'max_features': 'auto',\n",
      " 'min_samples_leaf': 2,\n",
      " 'min_samples_split': 2,\n",
      " 'n_estimators': 944}\n",
      " \n",
      " \n",
      "Fitting 9 folds for each of 10 candidates, totalling 90 fits\n"
     ]
    },
    {
     "name": "stderr",
     "output_type": "stream",
     "text": [
      "[Parallel(n_jobs=-1)]: Using backend LokyBackend with 4 concurrent workers.\n",
      "[Parallel(n_jobs=-1)]: Done  33 tasks      | elapsed:   30.9s\n",
      "[Parallel(n_jobs=-1)]: Done  90 out of  90 | elapsed:  1.5min finished\n"
     ]
    },
    {
     "name": "stdout",
     "output_type": "stream",
     "text": [
      "Score for 9 fold CV = 0.98\n",
      "!!!!!!!! Best-Fit Parameters From Training Data !!!!!!!!!!!!!!\n",
      "{'bootstrap': True,\n",
      " 'max_depth': 80,\n",
      " 'max_features': 'auto',\n",
      " 'min_samples_leaf': 2,\n",
      " 'min_samples_split': 2,\n",
      " 'n_estimators': 944}\n",
      " \n",
      " \n",
      "Fitting 10 folds for each of 10 candidates, totalling 100 fits\n"
     ]
    },
    {
     "name": "stderr",
     "output_type": "stream",
     "text": [
      "[Parallel(n_jobs=-1)]: Using backend LokyBackend with 4 concurrent workers.\n",
      "[Parallel(n_jobs=-1)]: Done  33 tasks      | elapsed:   31.6s\n",
      "[Parallel(n_jobs=-1)]: Done 100 out of 100 | elapsed:  1.7min finished\n"
     ]
    },
    {
     "name": "stdout",
     "output_type": "stream",
     "text": [
      "Score for 10 fold CV = 0.98\n",
      "!!!!!!!! Best-Fit Parameters From Training Data !!!!!!!!!!!!!!\n",
      "{'bootstrap': True,\n",
      " 'max_depth': 80,\n",
      " 'max_features': 'auto',\n",
      " 'min_samples_leaf': 2,\n",
      " 'min_samples_split': 2,\n",
      " 'n_estimators': 944}\n",
      " \n",
      " \n",
      "\n",
      "Out of Loop\n"
     ]
    }
   ],
   "source": [
    "random_grid = {'n_estimators': n_estimators,\n",
    "               'max_features': max_features,\n",
    "               'max_depth': max_depth,\n",
    "               'min_samples_split': min_samples_split,\n",
    "               'min_samples_leaf': min_samples_leaf,\n",
    "               #'criterion':criterion, \n",
    "               'bootstrap': bootstrap}\n",
    "from tqdm import tqdm_notebook as tqdm\n",
    "from sklearn.model_selection import RandomizedSearchCV\n",
    "import warnings\n",
    "warnings.filterwarnings(\"ignore\")\n",
    "rf=RandomForestClassifier(random_state=0)\n",
    "print(\"Start Fitting Training Data\")\n",
    "for cvx in tqdm(range(5,11)):\n",
    "    rf_random = RandomizedSearchCV(estimator = rf, param_distributions = random_grid, n_iter = 10, cv = cvx, verbose=2, random_state=42, n_jobs = -1, scoring='accuracy')\n",
    "   \n",
    "    rf_random.fit(X,y)\n",
    "    \n",
    "    print(\"Score for %d fold CV = %3.2f\"%(cvx,rf_random.score(X,y)))\n",
    "    print (\"!!!!!!!! Best-Fit Parameters From Training Data !!!!!!!!!!!!!!\")\n",
    "    pprint (rf_random.best_params_)\n",
    "    print(\" \")\n",
    "    print(\" \")\n",
    "    \n",
    "print(\"Out of Loop\")\n"
   ]
  },
  {
   "cell_type": "code",
   "execution_count": 62,
   "metadata": {},
   "outputs": [
    {
     "name": "stdout",
     "output_type": "stream",
     "text": [
      "Start Fitting Training Data\n"
     ]
    },
    {
     "data": {
      "application/vnd.jupyter.widget-view+json": {
       "model_id": "11345ba6f2e34b5b89a1ea284c594aed",
       "version_major": 2,
       "version_minor": 0
      },
      "text/plain": [
       "HBox(children=(FloatProgress(value=0.0, max=6.0), HTML(value='')))"
      ]
     },
     "metadata": {},
     "output_type": "display_data"
    },
    {
     "name": "stdout",
     "output_type": "stream",
     "text": [
      "Fitting 5 folds for each of 10 candidates, totalling 50 fits\n"
     ]
    },
    {
     "name": "stderr",
     "output_type": "stream",
     "text": [
      "[Parallel(n_jobs=-1)]: Using backend LokyBackend with 4 concurrent workers.\n",
      "[Parallel(n_jobs=-1)]: Done  33 tasks      | elapsed:   32.5s\n",
      "[Parallel(n_jobs=-1)]: Done  50 out of  50 | elapsed:  1.0min finished\n"
     ]
    },
    {
     "name": "stdout",
     "output_type": "stream",
     "text": [
      "Score for 5 fold CV = 0.99\n",
      "!!!!!!!! Best-Fit Parameters From Training Data !!!!!!!!!!!!!!\n",
      "{'bootstrap': True,\n",
      " 'max_depth': 70,\n",
      " 'max_features': 'auto',\n",
      " 'min_samples_leaf': 1,\n",
      " 'min_samples_split': 5,\n",
      " 'n_estimators': 1155}\n",
      " \n",
      " \n",
      "Fitting 6 folds for each of 10 candidates, totalling 60 fits\n"
     ]
    },
    {
     "name": "stderr",
     "output_type": "stream",
     "text": [
      "[Parallel(n_jobs=-1)]: Using backend LokyBackend with 4 concurrent workers.\n",
      "[Parallel(n_jobs=-1)]: Done  33 tasks      | elapsed:   34.0s\n",
      "[Parallel(n_jobs=-1)]: Done  60 out of  60 | elapsed:  1.3min finished\n"
     ]
    },
    {
     "name": "stdout",
     "output_type": "stream",
     "text": [
      "Score for 6 fold CV = 0.92\n",
      "!!!!!!!! Best-Fit Parameters From Training Data !!!!!!!!!!!!!!\n",
      "{'bootstrap': True,\n",
      " 'max_depth': 50,\n",
      " 'max_features': 'sqrt',\n",
      " 'min_samples_leaf': 2,\n",
      " 'min_samples_split': 10,\n",
      " 'n_estimators': 100}\n",
      " \n",
      " \n",
      "Fitting 7 folds for each of 10 candidates, totalling 70 fits\n"
     ]
    },
    {
     "name": "stderr",
     "output_type": "stream",
     "text": [
      "[Parallel(n_jobs=-1)]: Using backend LokyBackend with 4 concurrent workers.\n",
      "[Parallel(n_jobs=-1)]: Done  33 tasks      | elapsed:   31.9s\n",
      "[Parallel(n_jobs=-1)]: Done  70 out of  70 | elapsed:  1.7min finished\n"
     ]
    },
    {
     "name": "stdout",
     "output_type": "stream",
     "text": [
      "Score for 7 fold CV = 0.92\n",
      "!!!!!!!! Best-Fit Parameters From Training Data !!!!!!!!!!!!!!\n",
      "{'bootstrap': True,\n",
      " 'max_depth': 50,\n",
      " 'max_features': 'sqrt',\n",
      " 'min_samples_leaf': 2,\n",
      " 'min_samples_split': 10,\n",
      " 'n_estimators': 100}\n",
      " \n",
      " \n",
      "Fitting 8 folds for each of 10 candidates, totalling 80 fits\n"
     ]
    },
    {
     "name": "stderr",
     "output_type": "stream",
     "text": [
      "[Parallel(n_jobs=-1)]: Using backend LokyBackend with 4 concurrent workers.\n",
      "[Parallel(n_jobs=-1)]: Done  33 tasks      | elapsed:   36.0s\n",
      "[Parallel(n_jobs=-1)]: Done  80 out of  80 | elapsed:  1.8min finished\n"
     ]
    },
    {
     "name": "stdout",
     "output_type": "stream",
     "text": [
      "Score for 8 fold CV = 0.96\n",
      "!!!!!!!! Best-Fit Parameters From Training Data !!!!!!!!!!!!!!\n",
      "{'bootstrap': False,\n",
      " 'max_depth': 100,\n",
      " 'max_features': 'sqrt',\n",
      " 'min_samples_leaf': 4,\n",
      " 'min_samples_split': 10,\n",
      " 'n_estimators': 522}\n",
      " \n",
      " \n",
      "Fitting 9 folds for each of 10 candidates, totalling 90 fits\n"
     ]
    },
    {
     "name": "stderr",
     "output_type": "stream",
     "text": [
      "[Parallel(n_jobs=-1)]: Using backend LokyBackend with 4 concurrent workers.\n",
      "[Parallel(n_jobs=-1)]: Done  33 tasks      | elapsed:   38.4s\n",
      "[Parallel(n_jobs=-1)]: Done  90 out of  90 | elapsed:  2.0min finished\n"
     ]
    },
    {
     "name": "stdout",
     "output_type": "stream",
     "text": [
      "Score for 9 fold CV = 0.99\n",
      "!!!!!!!! Best-Fit Parameters From Training Data !!!!!!!!!!!!!!\n",
      "{'bootstrap': True,\n",
      " 'max_depth': 70,\n",
      " 'max_features': 'auto',\n",
      " 'min_samples_leaf': 1,\n",
      " 'min_samples_split': 5,\n",
      " 'n_estimators': 1155}\n",
      " \n",
      " \n",
      "Fitting 10 folds for each of 10 candidates, totalling 100 fits\n"
     ]
    },
    {
     "name": "stderr",
     "output_type": "stream",
     "text": [
      "[Parallel(n_jobs=-1)]: Using backend LokyBackend with 4 concurrent workers.\n",
      "[Parallel(n_jobs=-1)]: Done  33 tasks      | elapsed:   39.9s\n",
      "[Parallel(n_jobs=-1)]: Done 100 out of 100 | elapsed:  2.2min finished\n"
     ]
    },
    {
     "name": "stdout",
     "output_type": "stream",
     "text": [
      "Score for 10 fold CV = 0.98\n",
      "!!!!!!!! Best-Fit Parameters From Training Data !!!!!!!!!!!!!!\n",
      "{'bootstrap': True,\n",
      " 'max_depth': 80,\n",
      " 'max_features': 'auto',\n",
      " 'min_samples_leaf': 2,\n",
      " 'min_samples_split': 2,\n",
      " 'n_estimators': 944}\n",
      " \n",
      " \n",
      "\n",
      "Out of Loop\n"
     ]
    }
   ],
   "source": [
    "random_grid = {'n_estimators': n_estimators,\n",
    "               'max_features': max_features,\n",
    "               'max_depth': max_depth,\n",
    "               'min_samples_split': min_samples_split,\n",
    "               'min_samples_leaf': min_samples_leaf,\n",
    "               #'criterion':criterion, \n",
    "               'bootstrap': bootstrap}\n",
    "from tqdm import tqdm_notebook as tqdm\n",
    "from sklearn.model_selection import RandomizedSearchCV\n",
    "import warnings\n",
    "warnings.filterwarnings(\"ignore\")\n",
    "rf=RandomForestClassifier(random_state=0)\n",
    "print(\"Start Fitting Training Data\")\n",
    "for cvx in tqdm(range(5,11)):\n",
    "    rf_random = RandomizedSearchCV(estimator = rf, param_distributions = random_grid, n_iter = 10, cv = cvx, verbose=2, random_state=42, n_jobs = -1, scoring='accuracy')\n",
    "   \n",
    "    rf_random.fit(X_1,y_1)\n",
    "    \n",
    "    print(\"Score for %d fold CV = %3.2f\"%(cvx,rf_random.score(X_1,y_1)))\n",
    "    print (\"!!!!!!!! Best-Fit Parameters From Training Data !!!!!!!!!!!!!!\")\n",
    "    pprint (rf_random.best_params_)\n",
    "    print(\" \")\n",
    "    print(\" \")\n",
    "    \n",
    "print(\"Out of Loop\")\n"
   ]
  },
  {
   "cell_type": "code",
   "execution_count": 63,
   "metadata": {},
   "outputs": [
    {
     "name": "stdout",
     "output_type": "stream",
     "text": [
      "Start Fitting Data\n"
     ]
    },
    {
     "data": {
      "application/vnd.jupyter.widget-view+json": {
       "model_id": "73a2d135802947eeb0c7cd5e497ba76f",
       "version_major": 2,
       "version_minor": 0
      },
      "text/plain": [
       "HBox(children=(FloatProgress(value=0.0, max=4.0), HTML(value='')))"
      ]
     },
     "metadata": {},
     "output_type": "display_data"
    },
    {
     "name": "stdout",
     "output_type": "stream",
     "text": [
      "Fitting 7 folds for each of 10 candidates, totalling 70 fits\n"
     ]
    },
    {
     "name": "stderr",
     "output_type": "stream",
     "text": [
      "[Parallel(n_jobs=-1)]: Using backend LokyBackend with 4 concurrent workers.\n",
      "[Parallel(n_jobs=-1)]: Done  33 tasks      | elapsed:   26.4s\n",
      "[Parallel(n_jobs=-1)]: Done  70 out of  70 | elapsed:  1.3min finished\n"
     ]
    },
    {
     "name": "stdout",
     "output_type": "stream",
     "text": [
      "Score for 7 fold CV = 0.98\n",
      "!!!!!!!! Best-Fit Parameters !!!!!!!!!!!!!!\n",
      "{'bootstrap': True,\n",
      " 'max_depth': 80,\n",
      " 'max_features': 'auto',\n",
      " 'min_samples_leaf': 2,\n",
      " 'min_samples_split': 2,\n",
      " 'n_estimators': 944}\n",
      " \n",
      " \n",
      "Fitting 8 folds for each of 10 candidates, totalling 80 fits\n"
     ]
    },
    {
     "name": "stderr",
     "output_type": "stream",
     "text": [
      "[Parallel(n_jobs=-1)]: Using backend LokyBackend with 4 concurrent workers.\n",
      "[Parallel(n_jobs=-1)]: Done  33 tasks      | elapsed:   31.5s\n",
      "[Parallel(n_jobs=-1)]: Done  80 out of  80 | elapsed:  1.5min finished\n"
     ]
    },
    {
     "name": "stdout",
     "output_type": "stream",
     "text": [
      "Score for 8 fold CV = 0.98\n",
      "!!!!!!!! Best-Fit Parameters !!!!!!!!!!!!!!\n",
      "{'bootstrap': True,\n",
      " 'max_depth': 80,\n",
      " 'max_features': 'auto',\n",
      " 'min_samples_leaf': 2,\n",
      " 'min_samples_split': 2,\n",
      " 'n_estimators': 944}\n",
      " \n",
      " \n",
      "Fitting 9 folds for each of 10 candidates, totalling 90 fits\n"
     ]
    },
    {
     "name": "stderr",
     "output_type": "stream",
     "text": [
      "[Parallel(n_jobs=-1)]: Using backend LokyBackend with 4 concurrent workers.\n",
      "[Parallel(n_jobs=-1)]: Done  33 tasks      | elapsed:   36.5s\n",
      "[Parallel(n_jobs=-1)]: Done  90 out of  90 | elapsed:  1.7min finished\n"
     ]
    },
    {
     "name": "stdout",
     "output_type": "stream",
     "text": [
      "Score for 9 fold CV = 0.99\n",
      "!!!!!!!! Best-Fit Parameters !!!!!!!!!!!!!!\n",
      "{'bootstrap': True,\n",
      " 'max_depth': 70,\n",
      " 'max_features': 'auto',\n",
      " 'min_samples_leaf': 1,\n",
      " 'min_samples_split': 5,\n",
      " 'n_estimators': 1155}\n",
      " \n",
      " \n",
      "Fitting 10 folds for each of 10 candidates, totalling 100 fits\n"
     ]
    },
    {
     "name": "stderr",
     "output_type": "stream",
     "text": [
      "[Parallel(n_jobs=-1)]: Using backend LokyBackend with 4 concurrent workers.\n",
      "[Parallel(n_jobs=-1)]: Done  33 tasks      | elapsed:   35.4s\n",
      "[Parallel(n_jobs=-1)]: Done 100 out of 100 | elapsed:  2.0min finished\n"
     ]
    },
    {
     "name": "stdout",
     "output_type": "stream",
     "text": [
      "Score for 10 fold CV = 0.98\n",
      "!!!!!!!! Best-Fit Parameters !!!!!!!!!!!!!!\n",
      "{'bootstrap': True,\n",
      " 'max_depth': 80,\n",
      " 'max_features': 'auto',\n",
      " 'min_samples_leaf': 2,\n",
      " 'min_samples_split': 2,\n",
      " 'n_estimators': 944}\n",
      " \n",
      " \n",
      "\n",
      "Out of Loop\n"
     ]
    }
   ],
   "source": [
    "random_grid = {'n_estimators': n_estimators,\n",
    "               'max_features': max_features,\n",
    "               'max_depth': max_depth,\n",
    "               'min_samples_split': min_samples_split,\n",
    "               'min_samples_leaf': min_samples_leaf,\n",
    "               #'criterion':criterion, \n",
    "               'bootstrap': bootstrap}\n",
    "from tqdm import tqdm_notebook as tqdm\n",
    "from sklearn.model_selection import RandomizedSearchCV\n",
    "import warnings\n",
    "warnings.filterwarnings(\"ignore\")\n",
    "rf=RandomForestClassifier(random_state=0)\n",
    "print(\"Start Fitting Data\")\n",
    "for cvx in tqdm(range(7,11)):\n",
    "    rf_random = RandomizedSearchCV(estimator = rf, param_distributions = random_grid, n_iter = 10, cv = cvx, verbose=2, random_state=42, n_jobs = -1, scoring='f1')\n",
    "   \n",
    "    rf_random.fit(X,y)\n",
    "    \n",
    "    print(\"Score for %d fold CV = %3.2f\"%(cvx,rf_random.score(X,y)))\n",
    "    print (\"!!!!!!!! Best-Fit Parameters !!!!!!!!!!!!!!\")\n",
    "    pprint (rf_random.best_params_)\n",
    "    print(\" \")\n",
    "    print(\" \")\n",
    "    \n",
    "print(\"Out of Loop\")\n"
   ]
  },
  {
   "cell_type": "markdown",
   "metadata": {},
   "source": [
    "## XGBOOST"
   ]
  },
  {
   "cell_type": "code",
   "execution_count": 64,
   "metadata": {},
   "outputs": [],
   "source": [
    "\n",
    "#from numpy import loadtxt\n",
    "#from xgboost import XGBClassifier\n",
    "#from sklearn.model_selection import train_test_split\n",
    "#from sklearn.metrics import accuracy_score\n",
    "\n",
    "\n",
    "\n",
    "# split data into train and test sets\n",
    "#seed = 7\n",
    "#test_size = 0.2\n",
    "#X_train, X_test, y_train, y_test = train_test_split(X, y, test_size=test_size, random_state=seed)\n",
    "# fit model no training data\n",
    "#model = XGBClassifier()\n",
    "#model.fit(X_train, y_train)\n",
    "# make predictions for test data\n",
    "#y_pred = model.predict(X_test)\n",
    "#predictions = [round(value) for value in y_pred]\n",
    "# evaluate predictions\n",
    "#accuracy = accuracy_score(y_test, predictions)\n",
    "#print(\"Accuracy: %.2f%%\" % (accuracy * 100.0))"
   ]
  },
  {
   "cell_type": "code",
   "execution_count": 65,
   "metadata": {},
   "outputs": [],
   "source": [
    "#pip install xgboost"
   ]
  },
  {
   "cell_type": "code",
   "execution_count": 66,
   "metadata": {},
   "outputs": [],
   "source": [
    "#import xgboost"
   ]
  },
  {
   "cell_type": "code",
   "execution_count": 67,
   "metadata": {},
   "outputs": [],
   "source": [
    "from sklearn.ensemble import AdaBoostClassifier\n",
    "from sklearn.tree import DecisionTreeClassifier\n",
    "from sklearn.metrics import confusion_matrix\n",
    "from sklearn.preprocessing import StandardScaler\n",
    "\n",
    "from sklearn.model_selection import train_test_split\n",
    "X_train, X_test, y_train, y_test = train_test_split(X, y, test_size=0.2, random_state=1)\n",
    "\n",
    "\n",
    "# Scale the data to be between -1 and 1\n",
    "scaler = StandardScaler()\n",
    "scaler.fit(X_train)\n",
    "X_train = scaler.transform(X_train)\n",
    "X_test = scaler.transform(X_test)"
   ]
  },
  {
   "cell_type": "code",
   "execution_count": 68,
   "metadata": {},
   "outputs": [
    {
     "name": "stdout",
     "output_type": "stream",
     "text": [
      "Accuracy: 88.57%\n",
      "Precision : 89.80%\n",
      "Recall: 86.27%\n",
      "F1 : 88.00%\n"
     ]
    }
   ],
   "source": [
    "classifier = AdaBoostClassifier(\n",
    "    DecisionTreeClassifier(max_depth=1),\n",
    "    n_estimators=200\n",
    ")\n",
    "classifier.fit(X_train, y_train)\n",
    "predictions = classifier.predict(X_test)\n",
    "\n",
    "\n",
    "from sklearn.metrics import accuracy_score\n",
    "from sklearn.metrics import f1_score\n",
    "from sklearn.metrics import recall_score\n",
    "from sklearn.metrics import precision_score\n",
    "\n",
    "\n",
    "accuracy = accuracy_score(y_test, predictions)\n",
    "\n",
    "f1 = f1_score(y_test, predictions)\n",
    "re = recall_score(y_test, predictions)\n",
    "pre = precision_score(y_test, predictions)\n",
    "\n",
    "print(\"Accuracy: %.2f%%\" % (accuracy * 100.0))\n",
    "print(\"Precision : %.2f%%\" % (pre * 100.0))\n",
    "print(\"Recall: %.2f%%\" % (re * 100.0))\n",
    "print(\"F1 : %.2f%%\" % (f1 * 100.0))\n"
   ]
  },
  {
   "cell_type": "code",
   "execution_count": 69,
   "metadata": {},
   "outputs": [],
   "source": [
    "x=X\n",
    "\n",
    "SS = StandardScaler()\n",
    "df_scaled = pd.DataFrame(SS.fit_transform(X), columns = X.columns) # as scaling mandotory for KNN model \n",
    "\n",
    "x_train,x_test,y_train,y_test = train_test_split(x,y, test_size = 0.2, random_state = 1)\n",
    "x_train1,x_test1,y_train,y_test = train_test_split(df_scaled,y, test_size = 0.2, random_state = 1)"
   ]
  },
  {
   "cell_type": "code",
   "execution_count": 70,
   "metadata": {},
   "outputs": [],
   "source": [
    "l= []\n",
    "from sklearn.linear_model import LogisticRegression\n",
    "def models_lr(x,y):\n",
    "    mod = {}\n",
    "    model = LogisticRegression().fit(x,y)\n",
    "    ypred = model.predict(x_test)\n",
    "    mod['Model'] = 'LogisticRegression'\n",
    "    mod['Train_Score'] = model.score(x_train,y_train)\n",
    "    mod['Test_accuracy'] = metrics.accuracy_score(y_test,ypred)\n",
    "    mod['f1score'] = metrics.f1_score(y_test,ypred)\n",
    "    mod['recall'] = metrics.recall_score(y_test, ypred)\n",
    "    mod['precision'] = metrics.precision_score(y_test, ypred)\n",
    "    #model.predict_proba(x_test)\n",
    "    mod['roc_auc'] = metrics.roc_auc_score(y_test,ypred)\n",
    "    return mod\n",
    "l.append(models_lr(x_train,y_train))\n",
    "\n"
   ]
  },
  {
   "cell_type": "code",
   "execution_count": 71,
   "metadata": {},
   "outputs": [],
   "source": [
    "def models_dt(x,y):\n",
    "    mod = {}\n",
    "    model = DecisionTreeClassifier().fit(x,y)\n",
    "    ypred = model.predict(x_test)\n",
    "    mod['Model'] = 'Decision Tree'\n",
    "    mod['Train_Score'] = model.score(x_train,y_train)\n",
    "    mod['Test_accuracy'] = metrics.accuracy_score(y_test,ypred)\n",
    "    mod['f1score'] = metrics.f1_score(y_test,ypred)\n",
    "    mod['recall'] = metrics.recall_score(y_test, ypred)\n",
    "    mod['precision'] = metrics.precision_score(y_test, ypred)\n",
    "    #model.predict_proba(x_test)\n",
    "    mod['roc_auc'] = metrics.roc_auc_score(y_test,ypred)\n",
    "    return mod\n",
    "l.append(models_dt(x_train,y_train))"
   ]
  },
  {
   "cell_type": "code",
   "execution_count": 72,
   "metadata": {},
   "outputs": [],
   "source": [
    "def models_knn(x,y):\n",
    "    mod = {}\n",
    "    model = KNeighborsClassifier().fit(x,y)\n",
    "    ypred = model.predict(x_test1)\n",
    "    mod['Model'] = 'KNN'\n",
    "    mod['Train_Score'] = model.score(x_train1,y_train)\n",
    "    mod['Test_accuracy'] = metrics.accuracy_score(y_test,ypred)\n",
    "    mod['f1score'] = metrics.f1_score(y_test,ypred)\n",
    "    mod['recall'] = metrics.recall_score(y_test, ypred)\n",
    "    mod['precision'] = metrics.precision_score(y_test, ypred)\n",
    "    #model.predict_proba(x_test)\n",
    "    mod['roc_auc'] = metrics.roc_auc_score(y_test,ypred)\n",
    "    return mod\n",
    "l.append(models_knn(x_train1,y_train))"
   ]
  },
  {
   "cell_type": "code",
   "execution_count": 73,
   "metadata": {},
   "outputs": [],
   "source": [
    "def models_rf(x,y):\n",
    "    mod = {}\n",
    "    model = RandomForestClassifier().fit(x,y)\n",
    "    ypred = model.predict(x_test)\n",
    "    mod['Model'] = 'Random Forest'\n",
    "    mod['Train_Score'] = model.score(x_train,y_train)\n",
    "    mod['Test_accuracy'] = metrics.accuracy_score(y_test,ypred)\n",
    "    mod['f1score'] = metrics.f1_score(y_test,ypred)\n",
    "    mod['recall'] = metrics.recall_score(y_test, ypred)\n",
    "    mod['precision'] = metrics.precision_score(y_test, ypred)\n",
    "    #model.predict_proba(x_test)\n",
    "    mod['roc_auc'] = metrics.roc_auc_score(y_test,ypred)\n",
    "    return mod\n",
    "l.append(models_rf(x_train,y_train))"
   ]
  },
  {
   "cell_type": "code",
   "execution_count": 74,
   "metadata": {},
   "outputs": [],
   "source": [
    "def models_svm(x,y):\n",
    "    mod = {}\n",
    "    model = SVC(kernel='rbf').fit(x,y)\n",
    "    ypred = model.predict(x_test)\n",
    "    mod['Model'] = 'SVM'\n",
    "    mod['Train_Score'] = model.score(x_train,y_train)\n",
    "    mod['Test_accuracy'] = metrics.accuracy_score(y_test,ypred)\n",
    "    mod['f1score'] = metrics.f1_score(y_test,ypred)\n",
    "    mod['recall'] = metrics.recall_score(y_test, ypred)\n",
    "    mod['precision'] = metrics.precision_score(y_test, ypred)\n",
    "    #model.predict_proba(x_test)\n",
    "    mod['roc_auc'] = metrics.roc_auc_score(y_test,ypred)\n",
    "    return mod\n",
    "l.append(models_svm(x_train,y_train))"
   ]
  },
  {
   "cell_type": "code",
   "execution_count": 76,
   "metadata": {},
   "outputs": [
    {
     "data": {
      "text/plain": [
       "0      0\n",
       "1      0\n",
       "2      0\n",
       "3      0\n",
       "4      0\n",
       "      ..\n",
       "516    0\n",
       "517    0\n",
       "518    0\n",
       "519    0\n",
       "520    0\n",
       "Name: Outcome, Length: 521, dtype: int64"
      ]
     },
     "execution_count": 76,
     "metadata": {},
     "output_type": "execute_result"
    }
   ],
   "source": [
    "y"
   ]
  },
  {
   "cell_type": "code",
   "execution_count": 77,
   "metadata": {},
   "outputs": [],
   "source": [
    "def models_svm(x,y):\n",
    "    mod = {}\n",
    "    model = SVC(kernel='rbf').fit(x,y)\n",
    "    ypred = model.predict(x_test)\n",
    "    mod['Model'] = 'SVM'\n",
    "    mod['Train_Score'] = model.score(x_train,y_train)\n",
    "    mod['Test_accuracy'] = metrics.accuracy_score(y_test,ypred)\n",
    "    mod['f1score'] = metrics.f1_score(y_test,ypred)\n",
    "    mod['recall'] = metrics.recall_score(y_test, ypred)\n",
    "    mod['precision'] = metrics.precision_score(y_test, ypred)\n",
    "    #model.predict_proba(x_test)\n",
    "    mod['roc_auc'] = metrics.roc_auc_score(y_test,ypred)\n",
    "    return mod\n",
    "l.append(models_svm(x_train,y_train))"
   ]
  },
  {
   "cell_type": "code",
   "execution_count": 75,
   "metadata": {},
   "outputs": [
    {
     "data": {
      "text/html": [
       "<div>\n",
       "<style scoped>\n",
       "    .dataframe tbody tr th:only-of-type {\n",
       "        vertical-align: middle;\n",
       "    }\n",
       "\n",
       "    .dataframe tbody tr th {\n",
       "        vertical-align: top;\n",
       "    }\n",
       "\n",
       "    .dataframe thead th {\n",
       "        text-align: right;\n",
       "    }\n",
       "</style>\n",
       "<table border=\"1\" class=\"dataframe\">\n",
       "  <thead>\n",
       "    <tr style=\"text-align: right;\">\n",
       "      <th></th>\n",
       "      <th>Model</th>\n",
       "      <th>Train_Score</th>\n",
       "      <th>Test_accuracy</th>\n",
       "      <th>f1score</th>\n",
       "      <th>recall</th>\n",
       "      <th>precision</th>\n",
       "      <th>roc_auc</th>\n",
       "    </tr>\n",
       "  </thead>\n",
       "  <tbody>\n",
       "    <tr>\n",
       "      <th>0</th>\n",
       "      <td>LogisticRegression</td>\n",
       "      <td>0.836538</td>\n",
       "      <td>0.857143</td>\n",
       "      <td>0.854369</td>\n",
       "      <td>0.862745</td>\n",
       "      <td>0.846154</td>\n",
       "      <td>0.857298</td>\n",
       "    </tr>\n",
       "    <tr>\n",
       "      <th>1</th>\n",
       "      <td>Decision Tree</td>\n",
       "      <td>1.000000</td>\n",
       "      <td>0.771429</td>\n",
       "      <td>0.773585</td>\n",
       "      <td>0.803922</td>\n",
       "      <td>0.745455</td>\n",
       "      <td>0.772331</td>\n",
       "    </tr>\n",
       "    <tr>\n",
       "      <th>2</th>\n",
       "      <td>KNN</td>\n",
       "      <td>0.896635</td>\n",
       "      <td>0.809524</td>\n",
       "      <td>0.803922</td>\n",
       "      <td>0.803922</td>\n",
       "      <td>0.803922</td>\n",
       "      <td>0.809368</td>\n",
       "    </tr>\n",
       "    <tr>\n",
       "      <th>3</th>\n",
       "      <td>Random Forest</td>\n",
       "      <td>1.000000</td>\n",
       "      <td>0.847619</td>\n",
       "      <td>0.843137</td>\n",
       "      <td>0.843137</td>\n",
       "      <td>0.843137</td>\n",
       "      <td>0.847495</td>\n",
       "    </tr>\n",
       "    <tr>\n",
       "      <th>4</th>\n",
       "      <td>SVM</td>\n",
       "      <td>0.807692</td>\n",
       "      <td>0.876190</td>\n",
       "      <td>0.873786</td>\n",
       "      <td>0.882353</td>\n",
       "      <td>0.865385</td>\n",
       "      <td>0.876362</td>\n",
       "    </tr>\n",
       "  </tbody>\n",
       "</table>\n",
       "</div>"
      ],
      "text/plain": [
       "                Model  Train_Score  Test_accuracy   f1score    recall  \\\n",
       "0  LogisticRegression     0.836538       0.857143  0.854369  0.862745   \n",
       "1       Decision Tree     1.000000       0.771429  0.773585  0.803922   \n",
       "2                 KNN     0.896635       0.809524  0.803922  0.803922   \n",
       "3       Random Forest     1.000000       0.847619  0.843137  0.843137   \n",
       "4                 SVM     0.807692       0.876190  0.873786  0.882353   \n",
       "\n",
       "   precision   roc_auc  \n",
       "0   0.846154  0.857298  \n",
       "1   0.745455  0.772331  \n",
       "2   0.803922  0.809368  \n",
       "3   0.843137  0.847495  \n",
       "4   0.865385  0.876362  "
      ]
     },
     "execution_count": 75,
     "metadata": {},
     "output_type": "execute_result"
    }
   ],
   "source": [
    "base_df = pd.DataFrame(l)\n",
    "base_df"
   ]
  },
  {
   "cell_type": "code",
   "execution_count": 78,
   "metadata": {},
   "outputs": [],
   "source": [
    "x=X_1\n",
    "y=y_1\n",
    "SS = StandardScaler()\n",
    "df_scaled = pd.DataFrame(SS.fit_transform(X_1), columns = X.columns) # as scaling mandotory for KNN model \n",
    "\n",
    "x_train,x_test,y_train,y_test = train_test_split(x,y, test_size = 0.2, random_state = 1)\n",
    "x_train1,x_test1,y_train,y_test = train_test_split(df_scaled,y, test_size = 0.2, random_state = 1)"
   ]
  },
  {
   "cell_type": "code",
   "execution_count": 79,
   "metadata": {},
   "outputs": [],
   "source": [
    "l= []\n",
    "from sklearn.linear_model import LogisticRegression\n",
    "def models_lr(x,y):\n",
    "    mod = {}\n",
    "    model = LogisticRegression().fit(x,y)\n",
    "    ypred = model.predict(x_test)\n",
    "    mod['Model'] = 'LogisticRegression'\n",
    "    mod['Train_Score'] = model.score(x_train,y_train)\n",
    "    mod['Test_accuracy'] = metrics.accuracy_score(y_test,ypred)\n",
    "    mod['f1score'] = metrics.f1_score(y_test,ypred)\n",
    "    mod['recall'] = metrics.recall_score(y_test, ypred)\n",
    "    mod['precision'] = metrics.precision_score(y_test, ypred)\n",
    "    #model.predict_proba(x_test)\n",
    "    mod['roc_auc'] = metrics.roc_auc_score(y_test,ypred)\n",
    "    return mod\n",
    "l.append(models_lr(x_train,y_train))\n"
   ]
  },
  {
   "cell_type": "code",
   "execution_count": 80,
   "metadata": {},
   "outputs": [],
   "source": [
    "def models_dt(x,y):\n",
    "    mod = {}\n",
    "    model = DecisionTreeClassifier().fit(x,y)\n",
    "    ypred = model.predict(x_test)\n",
    "    mod['Model'] = 'Decision Tree'\n",
    "    mod['Train_Score'] = model.score(x_train,y_train)\n",
    "    mod['Test_accuracy'] = metrics.accuracy_score(y_test,ypred)\n",
    "    mod['f1score'] = metrics.f1_score(y_test,ypred)\n",
    "    mod['recall'] = metrics.recall_score(y_test, ypred)\n",
    "    mod['precision'] = metrics.precision_score(y_test, ypred)\n",
    "    #model.predict_proba(x_test)\n",
    "    mod['roc_auc'] = metrics.roc_auc_score(y_test,ypred)\n",
    "    return mod\n",
    "l.append(models_dt(x_train,y_train))"
   ]
  },
  {
   "cell_type": "code",
   "execution_count": 81,
   "metadata": {},
   "outputs": [],
   "source": [
    "def models_knn(x,y):\n",
    "    mod = {}\n",
    "    model = KNeighborsClassifier().fit(x,y)\n",
    "    ypred = model.predict(x_test1)\n",
    "    mod['Model'] = 'KNN'\n",
    "    mod['Train_Score'] = model.score(x_train1,y_train)\n",
    "    mod['Test_accuracy'] = metrics.accuracy_score(y_test,ypred)\n",
    "    mod['f1score'] = metrics.f1_score(y_test,ypred)\n",
    "    mod['recall'] = metrics.recall_score(y_test, ypred)\n",
    "    mod['precision'] = metrics.precision_score(y_test, ypred)\n",
    "    #model.predict_proba(x_test)\n",
    "    mod['roc_auc'] = metrics.roc_auc_score(y_test,ypred)\n",
    "    return mod\n",
    "l.append(models_knn(x_train1,y_train))"
   ]
  },
  {
   "cell_type": "code",
   "execution_count": 82,
   "metadata": {},
   "outputs": [],
   "source": [
    "def models_rf(x,y):\n",
    "    mod = {}\n",
    "    model = RandomForestClassifier().fit(x,y)\n",
    "    ypred = model.predict(x_test)\n",
    "    mod['Model'] = 'Random Forest'\n",
    "    mod['Train_Score'] = model.score(x_train,y_train)\n",
    "    mod['Test_accuracy'] = metrics.accuracy_score(y_test,ypred)\n",
    "    mod['f1score'] = metrics.f1_score(y_test,ypred)\n",
    "    mod['recall'] = metrics.recall_score(y_test, ypred)\n",
    "    mod['precision'] = metrics.precision_score(y_test, ypred)\n",
    "    #model.predict_proba(x_test)\n",
    "    mod['roc_auc'] = metrics.roc_auc_score(y_test,ypred)\n",
    "    return mod\n",
    "l.append(models_rf(x_train,y_train))"
   ]
  },
  {
   "cell_type": "code",
   "execution_count": 83,
   "metadata": {},
   "outputs": [],
   "source": [
    "def models_svm(x,y):\n",
    "    mod = {}\n",
    "    model = SVC(kernel='rbf').fit(x,y)\n",
    "    ypred = model.predict(x_test)\n",
    "    mod['Model'] = 'SVM'\n",
    "    mod['Train_Score'] = model.score(x_train,y_train)\n",
    "    mod['Test_accuracy'] = metrics.accuracy_score(y_test,ypred)\n",
    "    mod['f1score'] = metrics.f1_score(y_test,ypred)\n",
    "    mod['recall'] = metrics.recall_score(y_test, ypred)\n",
    "    mod['precision'] = metrics.precision_score(y_test, ypred)\n",
    "    #model.predict_proba(x_test)\n",
    "    mod['roc_auc'] = metrics.roc_auc_score(y_test,ypred)\n",
    "    return mod\n",
    "l.append(models_svm(x_train,y_train))"
   ]
  },
  {
   "cell_type": "code",
   "execution_count": 84,
   "metadata": {},
   "outputs": [
    {
     "data": {
      "text/html": [
       "<div>\n",
       "<style scoped>\n",
       "    .dataframe tbody tr th:only-of-type {\n",
       "        vertical-align: middle;\n",
       "    }\n",
       "\n",
       "    .dataframe tbody tr th {\n",
       "        vertical-align: top;\n",
       "    }\n",
       "\n",
       "    .dataframe thead th {\n",
       "        text-align: right;\n",
       "    }\n",
       "</style>\n",
       "<table border=\"1\" class=\"dataframe\">\n",
       "  <thead>\n",
       "    <tr style=\"text-align: right;\">\n",
       "      <th></th>\n",
       "      <th>Model</th>\n",
       "      <th>Train_Score</th>\n",
       "      <th>Test_accuracy</th>\n",
       "      <th>f1score</th>\n",
       "      <th>recall</th>\n",
       "      <th>precision</th>\n",
       "      <th>roc_auc</th>\n",
       "    </tr>\n",
       "  </thead>\n",
       "  <tbody>\n",
       "    <tr>\n",
       "      <th>0</th>\n",
       "      <td>LogisticRegression</td>\n",
       "      <td>0.765472</td>\n",
       "      <td>0.779221</td>\n",
       "      <td>0.645833</td>\n",
       "      <td>0.563636</td>\n",
       "      <td>0.756098</td>\n",
       "      <td>0.731313</td>\n",
       "    </tr>\n",
       "    <tr>\n",
       "      <th>1</th>\n",
       "      <td>Decision Tree</td>\n",
       "      <td>1.000000</td>\n",
       "      <td>0.655844</td>\n",
       "      <td>0.539130</td>\n",
       "      <td>0.563636</td>\n",
       "      <td>0.516667</td>\n",
       "      <td>0.635354</td>\n",
       "    </tr>\n",
       "    <tr>\n",
       "      <th>2</th>\n",
       "      <td>KNN</td>\n",
       "      <td>0.809446</td>\n",
       "      <td>0.785714</td>\n",
       "      <td>0.679612</td>\n",
       "      <td>0.636364</td>\n",
       "      <td>0.729167</td>\n",
       "      <td>0.752525</td>\n",
       "    </tr>\n",
       "    <tr>\n",
       "      <th>3</th>\n",
       "      <td>Random Forest</td>\n",
       "      <td>1.000000</td>\n",
       "      <td>0.772727</td>\n",
       "      <td>0.646465</td>\n",
       "      <td>0.581818</td>\n",
       "      <td>0.727273</td>\n",
       "      <td>0.730303</td>\n",
       "    </tr>\n",
       "    <tr>\n",
       "      <th>4</th>\n",
       "      <td>SVM</td>\n",
       "      <td>0.755700</td>\n",
       "      <td>0.772727</td>\n",
       "      <td>0.597701</td>\n",
       "      <td>0.472727</td>\n",
       "      <td>0.812500</td>\n",
       "      <td>0.706061</td>\n",
       "    </tr>\n",
       "  </tbody>\n",
       "</table>\n",
       "</div>"
      ],
      "text/plain": [
       "                Model  Train_Score  Test_accuracy   f1score    recall  \\\n",
       "0  LogisticRegression     0.765472       0.779221  0.645833  0.563636   \n",
       "1       Decision Tree     1.000000       0.655844  0.539130  0.563636   \n",
       "2                 KNN     0.809446       0.785714  0.679612  0.636364   \n",
       "3       Random Forest     1.000000       0.772727  0.646465  0.581818   \n",
       "4                 SVM     0.755700       0.772727  0.597701  0.472727   \n",
       "\n",
       "   precision   roc_auc  \n",
       "0   0.756098  0.731313  \n",
       "1   0.516667  0.635354  \n",
       "2   0.729167  0.752525  \n",
       "3   0.727273  0.730303  \n",
       "4   0.812500  0.706061  "
      ]
     },
     "execution_count": 84,
     "metadata": {},
     "output_type": "execute_result"
    }
   ],
   "source": [
    "base_df = pd.DataFrame(l)\n",
    "base_df"
   ]
  },
  {
   "cell_type": "code",
   "execution_count": null,
   "metadata": {},
   "outputs": [],
   "source": []
  },
  {
   "cell_type": "code",
   "execution_count": null,
   "metadata": {},
   "outputs": [],
   "source": []
  }
 ],
 "metadata": {
  "kernelspec": {
   "display_name": "Python 3",
   "language": "python",
   "name": "python3"
  },
  "language_info": {
   "codemirror_mode": {
    "name": "ipython",
    "version": 3
   },
   "file_extension": ".py",
   "mimetype": "text/x-python",
   "name": "python",
   "nbconvert_exporter": "python",
   "pygments_lexer": "ipython3",
   "version": "3.7.4"
  }
 },
 "nbformat": 4,
 "nbformat_minor": 2
}
